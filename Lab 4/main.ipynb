{
 "cells": [
  {
   "metadata": {},
   "cell_type": "markdown",
   "source": "### Part 1",
   "id": "fe7786b98be55bdf"
  },
  {
   "metadata": {},
   "cell_type": "code",
   "source": [
    "# 3.\tBuilding a Linear Regression Model to Predict Real Estate Prices\n",
    "\n",
    "# a.\tImport Pandas and NumPy for data manipulation and numerical operations.\n",
    "import pandas as pd\n",
    "import numpy as np\n",
    "\n",
    "# b.\tImport Matplotlib and Seaborn for creating statistical and graphical visualizations\n",
    "import matplotlib.pyplot as plt\n",
    "import seaborn as sns\n",
    "from altair import X2Datum\n",
    "from matplotlib.pyplot import ylabel\n",
    "from rich.jupyter import display\n",
    "\n",
    "# c.\tRead the Real_estate dataset provided into a DataFrame using Pandas. This dataset contains records of real estate price predictions based on various factors. Use realEstate as the variable name of the dataset\n",
    "real_state = pd.read_csv('data/Real_estate.csv')\n",
    "\n",
    "# d.\tAdjust the house price to current prices by multiplying the price column by 2\n",
    "real_state['Y house price of unit area'] = real_state['Y house price of unit area'] * 2"
   ],
   "id": "f2a44e25791046f6",
   "outputs": [],
   "execution_count": null
  },
  {
   "metadata": {},
   "cell_type": "code",
   "source": [
    "# e.\tDisplay the first few records of the dataset to inspect its contents.\n",
    "real_state.head()"
   ],
   "id": "dcd048537c7178e4",
   "outputs": [],
   "execution_count": null
  },
  {
   "metadata": {},
   "cell_type": "code",
   "source": [
    "# f.\tDisplay the information about the realEstate dataset, including data types, non-null counts, and memory usage, to understand its structure and contents.\n",
    "real_state.info()"
   ],
   "id": "89153ac72d9aa09f",
   "outputs": [],
   "execution_count": null
  },
  {
   "metadata": {},
   "cell_type": "code",
   "source": [
    "# g.\tFind the minimum and maximum values for each column in the realEstate dataset to identify the range of data across different variables.\n",
    "real_state.max()"
   ],
   "id": "6c1d9d27182c6de4",
   "outputs": [],
   "execution_count": null
  },
  {
   "metadata": {},
   "cell_type": "code",
   "source": "real_state.min()",
   "id": "3b03201d7d00bc80",
   "outputs": [],
   "execution_count": null
  },
  {
   "metadata": {},
   "cell_type": "code",
   "source": [
    "# 4.\tPreparing the Data. In this section we will be identifying and removing irrelevant columns from the Real Estate Dataset\n",
    "\n",
    "# a.\tIdentify and remove the irrelevant column No from the dataset.\n",
    "real_state.drop(labels='No', axis=1, inplace=True)\n",
    "\n",
    "# b.\tDisplay the updated information about the dataset to confirm the removal of the column.\n",
    "real_state.info"
   ],
   "id": "3d49438b062340c7",
   "outputs": [],
   "execution_count": null
  },
  {
   "metadata": {},
   "cell_type": "markdown",
   "source": "### Part 2",
   "id": "4bba4ec40dc675f"
  },
  {
   "metadata": {},
   "cell_type": "code",
   "source": [
    "# 5.\tExtract the X1 transaction date column as x1 and the Y house price of unit area column as y from the dataset.\n",
    "x1 = real_state['X1 transaction date']\n",
    "y = real_state['Y house price of unit area']\n",
    "\n",
    "# 6.\tCreate a scatter plot to visualize the relationship between x1 and y, with a line width of 1.\n",
    "sns.scatterplot(x=x1, y=y)\n",
    "\n",
    "# 7.\tCopy and paste visualization and describe what conclusions could be drawn from this visualization.\n"
   ],
   "id": "29a7ef442ecde90c",
   "outputs": [],
   "execution_count": null
  },
  {
   "metadata": {},
   "cell_type": "code",
   "source": [
    "# 8.\tExtract the X2 house age column as x2 and the Y house price of unit area column as y from the dataset.\n",
    "x2 = real_state['X2 house age']\n",
    "\n",
    "# 9.\tCreate a scatter plot to visualize the relationship between x2 (house age) and y (house price of unit area), with a line width of 1.\n",
    "sns.scatterplot(x=x2, y=y)\n",
    "\n",
    "# 10.\tCopy and paste visualization and describe what conclusions could be drawn from this visualization.\n"
   ],
   "id": "15f4965321956882",
   "outputs": [],
   "execution_count": null
  },
  {
   "metadata": {},
   "cell_type": "code",
   "source": [
    "# 11.\tExtract the X3 distance to the nearest MRT station column as x3 and the Y house price of the unit area column as y from the dataset.\n",
    "x3 = real_state['X3 distance to the nearest MRT station']\n",
    "\n",
    "# 12.\tCreate a scatter plot to visualize the relationship between x3 (distance to the nearest MRT station) and y (house price of unit area), with a line width of 1.\n",
    "sns.scatterplot(x=x3, y=y, lw=1)\n",
    "\n",
    "# 13.\tCopy and paste visualization and describe what conclusions could be drawn from this visualization.\n"
   ],
   "id": "cea8d7788a8a2dab",
   "outputs": [],
   "execution_count": null
  },
  {
   "metadata": {},
   "cell_type": "code",
   "source": [
    "# 14.\tExtract the X4 number of convenience stores column as x4 and the Y house price of unit area column as y from the dataset.\n",
    "x4 = real_state['X4 number of convenience stores']\n",
    "\n",
    "# 15.\tCreate a scatter plot to visualize the relationship between x4 (number of convenience stores) and y (house price of unit area), with a line width of 1.\n",
    "sns.scatterplot(x=x4, y=y, lw=1)\n",
    "\n",
    "# 16.\tCopy and paste visualization and describe what conclusions could be drawn from this visualization.\n"
   ],
   "id": "ec5c918ff06aa687",
   "outputs": [],
   "execution_count": null
  },
  {
   "metadata": {},
   "cell_type": "code",
   "source": [
    "# 17.\tExtract the X5 latitude column as x5 and the Y house price of the unit area column as y from the dataset.\n",
    "x5 = real_state['X5 latitude']\n",
    "\n",
    "# 18.\tCreate a scatter plot to visualize the relationship between x5 (latitude) and y (house price of unit area), with a line width of 1.\n",
    "sns.scatterplot(x=x5, y=y, lw=1)\n",
    "\n",
    "# 19.\tCopy and paste visualization and describe what conclusions could be drawn from this visualization.\n"
   ],
   "id": "18f2b907db206263",
   "outputs": [],
   "execution_count": null
  },
  {
   "metadata": {},
   "cell_type": "code",
   "source": [
    "# 20.\tExtract the X6 longitude column as x6 and the Y house price of unit area column as y from the dataset.\n",
    "x6 = real_state['X6 longitude']\n",
    "\n",
    "# 21.\tCreate a scatter plot to visualize the relationship between x6 (longitude) and y (house price of unit area), with a line width of 1.\n",
    "sns.scatterplot(x=x6, y=y, lw=1)\n",
    "\n",
    "# 22.\tCopy and paste visualization and describe what conclusions could be drawn from this visualization.\n"
   ],
   "id": "630a35057b40e7c2",
   "outputs": [],
   "execution_count": null
  },
  {
   "metadata": {},
   "cell_type": "markdown",
   "source": "### Part 3 - Training a model",
   "id": "4248dade02b6086e"
  },
  {
   "metadata": {},
   "cell_type": "code",
   "source": [
    "# 23.\tSplitting Data into Training and Testing Sets for Model Training\n",
    "# a.\tCreate a tuple with the dependent (y) and independent (X) variables. Remove the dependent data (our y) from our independent data (our x values) in the dataset.\n",
    "X, y = real_state.drop('Y house price of unit area', axis=1), real_state['Y house price of unit area'].values\n",
    "\n",
    "# b.\tDisplay the values of the X (matrix) and y (vector) variables.\n",
    "X\n"
   ],
   "id": "20eb403aa1e16bfd",
   "outputs": [],
   "execution_count": null
  },
  {
   "metadata": {},
   "cell_type": "code",
   "source": "y",
   "id": "aa6e2e231979600f",
   "outputs": [],
   "execution_count": null
  },
  {
   "metadata": {},
   "cell_type": "code",
   "source": [
    "# 24.\tPrepare the training datasets using the sklearn.model_selection module (import train_test_split function).\n",
    "from sklearn.model_selection import train_test_split\n",
    "\n",
    "# a.\tSplit the data into training and testing data with the train_test_split function.  Use a 30% test size for this split and a random_state of 40.\n",
    "X_train, X_test, y_train, y_test = train_test_split(X, y, test_size=0.3, random_state=87)"
   ],
   "id": "a7e9f915d51857f2",
   "outputs": [],
   "execution_count": null
  },
  {
   "metadata": {},
   "cell_type": "code",
   "source": [
    "# a.\tTrain a model by creating a linear regression object using the LinearRegression class and using its fit method with the training data sets.\n",
    "from sklearn.linear_model import LinearRegression\n",
    "lm = LinearRegression()\n",
    "lm.fit(X_train, y_train)"
   ],
   "id": "7a12bea739c78d3f",
   "outputs": [],
   "execution_count": null
  },
  {
   "metadata": {},
   "cell_type": "code",
   "source": [
    "# a.\tGenerate predictions for the test data using the trained model (predict method, and the X_test dataset).\n",
    "predictions = lm.predict(X_test)\n",
    "\n",
    "# b.\tEvaluate the model's accuracy by scoring its performance on the test set, using the score method. What is the value returned? How can this score be interpreted? \n",
    "lm.score(X_test, y_test)"
   ],
   "id": "aca6708eb83d8bdb",
   "outputs": [],
   "execution_count": null
  },
  {
   "metadata": {},
   "cell_type": "code",
   "source": [
    "# c.\tCompare the predicted values (predictions) against the values used for testing the model (y_test). You may create 2 separate plots using the X3 distance to the nearest MRT station as the independent variable.\n",
    "sns.scatterplot(x=X_test['X3 distance to the nearest MRT station'], y=predictions)\n",
    "\n",
    "# d.\tCopy and paste visualization and describe what conclusions could be drawn from this visualization and the score obtained in the previous step.\n"
   ],
   "id": "5f01a744b4af97f9",
   "outputs": [],
   "execution_count": null
  },
  {
   "metadata": {},
   "cell_type": "code",
   "source": "sns.scatterplot(x=X_test['X3 distance to the nearest MRT station'], y=y_test)",
   "id": "95b833b56efb046b",
   "outputs": [],
   "execution_count": null
  },
  {
   "metadata": {},
   "cell_type": "code",
   "source": [
    "# 27.\tUsing the Model to Make Price Predictions by creating a dictionary myTest with the input values for the model's features:\n",
    "# a.\tUse the following values: transaction=2013, house age=16, distance=2000, stores=4, latitude=24.94 and longitude=121.50\n",
    "myTestMin = {\n",
    "    'X1 transaction date': [2012],\n",
    "    'X2 house age': [25],\n",
    "    'X3 distance to the nearest MRT station': [5500],\n",
    "    'X4 number of convenience stores': [2],\n",
    "    'X5 latitude': [24.94],\n",
    "    'X6 longitude': [121.44],\n",
    "}\n",
    "\n",
    "# b.\tConvert the dictionary into a DataFrame named df.\n",
    "df = pd.DataFrame(myTestMin)\n",
    "\n",
    "# c.\tUse the trained model to predict the price based on the values in df and print the result.\n",
    "lm.predict(df)\n"
   ],
   "id": "b301de806c2782bf",
   "outputs": [],
   "execution_count": null
  },
  {
   "metadata": {},
   "cell_type": "code",
   "source": [
    "myTestMax = {\n",
    "    'X1 transaction date': [2013],\n",
    "    'X2 house age': [5],\n",
    "    'X3 distance to the nearest MRT station': [500],\n",
    "    'X4 number of convenience stores': [9],\n",
    "    'X5 latitude': [24.98],\n",
    "    'X6 longitude': [121.55],\n",
    "}\n",
    "\n",
    "df = pd.DataFrame(myTestMax)\n",
    "lm.predict(df)"
   ],
   "id": "15caa7a0d35b8f7f",
   "outputs": [],
   "execution_count": null
  }
 ],
 "metadata": {
  "kernelspec": {
   "display_name": "Python 3",
   "language": "python",
   "name": "python3"
  },
  "language_info": {
   "codemirror_mode": {
    "name": "ipython",
    "version": 2
   },
   "file_extension": ".py",
   "mimetype": "text/x-python",
   "name": "python",
   "nbconvert_exporter": "python",
   "pygments_lexer": "ipython2",
   "version": "2.7.6"
  }
 },
 "nbformat": 4,
 "nbformat_minor": 5
}
