{
 "cells": [
  {
   "metadata": {
    "collapsed": true
   },
   "cell_type": "code",
   "source": [
    "import pandas as pd  # 28.\tImport modules as necessary\n",
    "import seaborn as sns\n",
    "from sklearn.linear_model import LogisticRegression\n",
    "from sklearn.model_selection import train_test_split\n",
    "\n",
    "# 29.\tCollect the data (use the titanic dataset from seaborn)\n",
    "titanic_ds = sns.load_dataset('titanic')\n",
    "\n",
    "# 30.\tPrepare the data by:\n",
    "# a.\tDropping non deterministic columns (embark_town, embarked, deck, class and alive.)\n",
    "titanic_ds.drop(labels=['embark_town', 'embarked', 'deck', 'class', 'alive'], axis=1, inplace=True)\n",
    "\n",
    "\n",
    "# b.\tReplacing non-numeric values for sex and who columns.\n",
    "titanic_ds['sex'] = titanic_ds['sex'].map({'male': 0, 'female': 1})\n",
    "titanic_ds['who'] = titanic_ds['who'].map({'man': 0, 'woman': 1, 'child': 2})\n",
    "\n",
    "# c.\tRemoving all rows with non-values (dropna method)\n",
    "titanic_ds = titanic_ds.dropna()\n",
    "\n",
    "# 31.\tGet the top 20 rows in the dataset and paste them in the following box\n",
    "titanic_ds.head(20)\n"
   ],
   "id": "initial_id",
   "outputs": [],
   "execution_count": null
  },
  {
   "metadata": {},
   "cell_type": "code",
   "source": [
    "# 32.\tChoose a model for the regression\n",
    "y = titanic_ds['survived']\n",
    "X = titanic_ds.drop(labels=['survived'], axis=1)\n",
    "\n",
    "#     33.\tTrain the model (use a value of max_iter=1000 for the LogisticRegression class.)\n",
    "X_train, X_test, y_train, y_test = train_test_split(X, y, test_size=0.2, random_state=42)\n",
    "model = LogisticRegression(max_iter=1000)\n",
    "model.fit(X_train, y_train)"
   ],
   "id": "7c2d6d4c06b26967",
   "outputs": [],
   "execution_count": null
  },
  {
   "metadata": {},
   "cell_type": "code",
   "source": [
    "#     34.\tEvaluate the model's accuracy by scoring its performance on the test set, using the score method. What is the value returned? How can this score be interpreted? \n",
    "accuracy = model.score(X_test, y_test)\n",
    "accuracy"
   ],
   "id": "207b9c0d1fbe641f",
   "outputs": [],
   "execution_count": null
  },
  {
   "metadata": {},
   "cell_type": "code",
   "source": [
    "# t this point we need to use our model to make a prediction.  Create a dictionary with your values (and fictitious siblings, parents, and select the pclass as 2.\n",
    "myTest = {\n",
    "    'pclass': [2],\n",
    "    'sex': [1],\n",
    "    'age': [32],\n",
    "    'sibsp': [1],\n",
    "    'parch': ['1'],\n",
    "    'fare': [21.25],\n",
    "    'who': [1],\n",
    "    'adult_male': [False],\n",
    "    'alone': [False]\n",
    "}\n",
    "\n",
    "# 36.\tDisplay the dictionary with your data and  the result of the prediction in the following box.\n",
    "df = pd.DataFrame(myTest)\n",
    "prediction = model.predict(df)\n",
    "prediction"
   ],
   "id": "ebf490500dc2a520",
   "outputs": [],
   "execution_count": null
  }
 ],
 "metadata": {
  "kernelspec": {
   "display_name": "Python 3",
   "language": "python",
   "name": "python3"
  },
  "language_info": {
   "codemirror_mode": {
    "name": "ipython",
    "version": 2
   },
   "file_extension": ".py",
   "mimetype": "text/x-python",
   "name": "python",
   "nbconvert_exporter": "python",
   "pygments_lexer": "ipython2",
   "version": "2.7.6"
  }
 },
 "nbformat": 4,
 "nbformat_minor": 5
}
