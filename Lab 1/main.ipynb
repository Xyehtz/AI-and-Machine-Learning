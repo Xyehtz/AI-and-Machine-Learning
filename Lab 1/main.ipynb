{
 "cells": [
  {
   "cell_type": "code",
   "id": "initial_id",
   "metadata": {
    "collapsed": true,
    "ExecuteTime": {
     "end_time": "2024-09-05T21:24:18.598666Z",
     "start_time": "2024-09-05T21:24:18.589985Z"
    }
   },
   "source": [
    "from statistics import mean\n",
    "\n",
    "inp_lst = [12, 45, 78, 36, 45, 237.11, -1, 88]\n",
    "list_avg = mean(inp_lst)\n",
    "round(list_avg, 3)"
   ],
   "outputs": [
    {
     "data": {
      "text/plain": [
       "67.514"
      ]
     },
     "execution_count": 2,
     "metadata": {},
     "output_type": "execute_result"
    }
   ],
   "execution_count": 2
  },
  {
   "metadata": {
    "ExecuteTime": {
     "end_time": "2024-09-05T21:25:02.002953Z",
     "start_time": "2024-09-05T21:25:01.995936Z"
    }
   },
   "cell_type": "code",
   "source": [
    "# Print value of variable\n",
    "example_var = \"Variable\"\n",
    "example_var"
   ],
   "id": "28529bc0454773ea",
   "outputs": [
    {
     "data": {
      "text/plain": [
       "'Variable'"
      ]
     },
     "execution_count": 3,
     "metadata": {},
     "output_type": "execute_result"
    }
   ],
   "execution_count": 3
  },
  {
   "metadata": {
    "ExecuteTime": {
     "end_time": "2024-09-05T21:25:42.009642Z",
     "start_time": "2024-09-05T21:25:42.004563Z"
    }
   },
   "cell_type": "code",
   "source": [
    "# Values of variables and adding their values\n",
    "print(example_var + \". Additional text\")"
   ],
   "id": "ccb4306e3a3849ee",
   "outputs": [
    {
     "name": "stdout",
     "output_type": "stream",
     "text": [
      "Variable. Additional text\n"
     ]
    }
   ],
   "execution_count": 4
  },
  {
   "metadata": {
    "ExecuteTime": {
     "end_time": "2024-09-05T21:26:30.481935Z",
     "start_time": "2024-09-05T21:26:30.474902Z"
    }
   },
   "cell_type": "code",
   "source": [
    "# Print numbers along with strings\n",
    "print(\"Adding numbers {num} and text {txt}\".format(num=5, txt=example_var))"
   ],
   "id": "3c16d92bbd83c0ba",
   "outputs": [
    {
     "name": "stdout",
     "output_type": "stream",
     "text": [
      "Adding numbers 5 and text Variable\n"
     ]
    }
   ],
   "execution_count": 5
  },
  {
   "metadata": {
    "ExecuteTime": {
     "end_time": "2024-09-05T21:28:58.074208Z",
     "start_time": "2024-09-05T21:28:58.067560Z"
    }
   },
   "cell_type": "code",
   "source": [
    "# List creation\n",
    "[1, 2, 3, 4, 5]"
   ],
   "id": "81f1a75958288110",
   "outputs": [
    {
     "data": {
      "text/plain": [
       "[1, 2, 3, 4, 5]"
      ]
     },
     "execution_count": 6,
     "metadata": {},
     "output_type": "execute_result"
    }
   ],
   "execution_count": 6
  },
  {
   "metadata": {
    "ExecuteTime": {
     "end_time": "2024-09-05T21:29:41.758171Z",
     "start_time": "2024-09-05T21:29:41.752310Z"
    }
   },
   "cell_type": "code",
   "source": [
    "# Adding elements to a list\n",
    "my_list = [1, 2, 3]\n",
    "my_list.append(4)\n",
    "my_list"
   ],
   "id": "9129ed8da0c519c9",
   "outputs": [
    {
     "data": {
      "text/plain": [
       "[1, 2, 3, 4]"
      ]
     },
     "execution_count": 7,
     "metadata": {},
     "output_type": "execute_result"
    }
   ],
   "execution_count": 7
  },
  {
   "metadata": {
    "ExecuteTime": {
     "end_time": "2024-09-05T21:30:26.112441Z",
     "start_time": "2024-09-05T21:30:26.105953Z"
    }
   },
   "cell_type": "code",
   "source": [
    "# Printing list subsets\n",
    "my_list[:2]"
   ],
   "id": "59641c8a6ac9dc82",
   "outputs": [
    {
     "data": {
      "text/plain": [
       "[1, 2]"
      ]
     },
     "execution_count": 8,
     "metadata": {},
     "output_type": "execute_result"
    }
   ],
   "execution_count": 8
  },
  {
   "metadata": {
    "ExecuteTime": {
     "end_time": "2024-09-05T21:32:05.094892Z",
     "start_time": "2024-09-05T21:32:05.087692Z"
    }
   },
   "cell_type": "code",
   "source": [
    "# Creating dictionaries and getting values using keys\n",
    "my_dict = {\"Key1\": \"Value1\", \"Key2\": \"Value2\"}\n",
    "my_dict[\"Key1\"]"
   ],
   "id": "7c99f580b4c645ff",
   "outputs": [
    {
     "data": {
      "text/plain": [
       "'Value1'"
      ]
     },
     "execution_count": 9,
     "metadata": {},
     "output_type": "execute_result"
    }
   ],
   "execution_count": 9
  },
  {
   "metadata": {
    "ExecuteTime": {
     "end_time": "2024-09-05T21:33:31.567857Z",
     "start_time": "2024-09-05T21:33:31.560908Z"
    }
   },
   "cell_type": "code",
   "source": [
    "# Example of sets\n",
    "{1, 1, 1, 1, 2, 3, 4, 5, 5, 5, 5, 55}"
   ],
   "id": "383785d8fbd7c499",
   "outputs": [
    {
     "data": {
      "text/plain": [
       "{1, 2, 3, 4, 5, 55}"
      ]
     },
     "execution_count": 10,
     "metadata": {},
     "output_type": "execute_result"
    }
   ],
   "execution_count": 10
  },
  {
   "metadata": {
    "ExecuteTime": {
     "end_time": "2024-09-05T21:35:08.810403Z",
     "start_time": "2024-09-05T21:35:08.805013Z"
    }
   },
   "cell_type": "code",
   "source": [
    "# if, elif and else\n",
    "if 1 > 2:\n",
    "    print(1)\n",
    "elif 2 > 3:\n",
    "    print(2)\n",
    "else:\n",
    "    print(\"Nope\")"
   ],
   "id": "2c893a6a5dcdf883",
   "outputs": [
    {
     "name": "stdout",
     "output_type": "stream",
     "text": [
      "Nope\n"
     ]
    }
   ],
   "execution_count": 11
  },
  {
   "metadata": {
    "ExecuteTime": {
     "end_time": "2024-09-05T21:37:13.626469Z",
     "start_time": "2024-09-05T21:37:13.619886Z"
    }
   },
   "cell_type": "code",
   "source": [
    "# Printing members of a list using for loop\n",
    "my_list2 = [1, 2, 3, 4, 5, 6, 7, 8, 9, 10]\n",
    "\n",
    "for i in my_list2:\n",
    "    print(i)"
   ],
   "id": "3e6f4db939746e9d",
   "outputs": [
    {
     "name": "stdout",
     "output_type": "stream",
     "text": [
      "1\n",
      "2\n",
      "3\n",
      "4\n",
      "5\n",
      "6\n",
      "7\n",
      "8\n",
      "9\n",
      "10\n"
     ]
    }
   ],
   "execution_count": 15
  },
  {
   "metadata": {
    "ExecuteTime": {
     "end_time": "2024-09-05T21:39:19.157446Z",
     "start_time": "2024-09-05T21:39:19.153338Z"
    }
   },
   "cell_type": "code",
   "source": [
    "# Printing elements of the list using while loop\n",
    "item = 0\n",
    "while item < 10:\n",
    "    print(my_list2[item])\n",
    "    item += 1"
   ],
   "id": "c1e7f62b21f939b9",
   "outputs": [
    {
     "name": "stdout",
     "output_type": "stream",
     "text": [
      "1\n",
      "2\n",
      "3\n",
      "4\n",
      "5\n",
      "6\n",
      "7\n",
      "8\n",
      "9\n",
      "10\n"
     ]
    }
   ],
   "execution_count": 19
  },
  {
   "metadata": {},
   "cell_type": "code",
   "outputs": [],
   "execution_count": null,
   "source": [
    "# Function to print parameters\n",
    "def print_params(param1, param2):\n",
    "    print(f'First param: {param1}')\n",
    "    print(f'Second param: {param2}')\n",
    "    \n",
    "print_params('Cat', 'Dog')"
   ],
   "id": "4138e287d1a741a0"
  },
  {
   "metadata": {
    "ExecuteTime": {
     "end_time": "2024-09-05T21:50:53.937851Z",
     "start_time": "2024-09-05T21:50:53.929806Z"
    }
   },
   "cell_type": "code",
   "source": [
    "# Function to get change\n",
    "\n",
    "def make_change(money):\n",
    "    num_coins = []\n",
    "    coin_names = ['Quarters', 'Dimes', 'Nickels']\n",
    "    \n",
    "    # Check if the money is not a negative number or more than 100\n",
    "    if money < 0 or money > 100:\n",
    "        print('Error: The input is negative or more than 100')\n",
    "    \n",
    "    # Round values\n",
    "    round_money = round(money / 5) * 5\n",
    "    \n",
    "    # Get number of coins using integer division and the remainder with modulus\n",
    "    quarters = round_money // 25\n",
    "    round_money %= 25\n",
    "    dimes = round_money // 10\n",
    "    round_money %= 10\n",
    "    nickels = round_money // 5    \n",
    "    \n",
    "    # Add values to list\n",
    "    num_coins.append(quarters)\n",
    "    num_coins.append(dimes)\n",
    "    num_coins.append(nickels)\n",
    "    \n",
    "    # For loop to iterate through the list getting the index and value to format the text properly\n",
    "    text = f'{money} cents require'\n",
    "    for index, num in enumerate(num_coins):\n",
    "        if num == 0:\n",
    "            continue\n",
    "            \n",
    "        text += f', {num} {coin_names[index]}'\n",
    "        \n",
    "    # Print the formatted text\n",
    "    print(text)\n",
    "    \n",
    "make_change(99)"
   ],
   "id": "98e7664af55e6956",
   "outputs": [
    {
     "name": "stdout",
     "output_type": "stream",
     "text": [
      "99 cents require, 4 Quarters\n"
     ]
    }
   ],
   "execution_count": 22
  }
 ],
 "metadata": {
  "kernelspec": {
   "display_name": "Python 3",
   "language": "python",
   "name": "python3"
  },
  "language_info": {
   "codemirror_mode": {
    "name": "ipython",
    "version": 2
   },
   "file_extension": ".py",
   "mimetype": "text/x-python",
   "name": "python",
   "nbconvert_exporter": "python",
   "pygments_lexer": "ipython2",
   "version": "2.7.6"
  }
 },
 "nbformat": 4,
 "nbformat_minor": 5
}
