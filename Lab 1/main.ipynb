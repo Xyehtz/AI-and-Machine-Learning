{
 "cells": [
  {
   "cell_type": "code",
   "id": "initial_id",
   "metadata": {
    "collapsed": true,
    "jupyter": {
     "is_executing": true
    }
   },
   "source": [
    "from statistics import mean\n",
    "\n",
    "inp_lst = [12, 45, 78, 36, 45, 237.11, -1, 88]\n",
    "list_avg = mean(inp_lst)\n",
    "round(list_avg, 3)"
   ],
   "outputs": [],
   "execution_count": null
  },
  {
   "metadata": {},
   "cell_type": "code",
   "source": [
    "# Print value of variable\n",
    "example_var = \"Variable\"\n",
    "example_var"
   ],
   "id": "28529bc0454773ea",
   "outputs": [],
   "execution_count": null
  },
  {
   "metadata": {},
   "cell_type": "code",
   "source": [
    "# Values of variables and adding their values\n",
    "print(example_var + \". Additional text\")"
   ],
   "id": "ccb4306e3a3849ee",
   "outputs": [],
   "execution_count": null
  },
  {
   "metadata": {},
   "cell_type": "code",
   "source": [
    "# Print numbers along with strings\n",
    "print(\"Adding numbers {num} and text {txt}\".format(num=5, txt=example_var))"
   ],
   "id": "3c16d92bbd83c0ba",
   "outputs": [],
   "execution_count": null
  },
  {
   "metadata": {},
   "cell_type": "code",
   "source": [
    "# List creation\n",
    "[1, 2, 3, 4, 5]"
   ],
   "id": "81f1a75958288110",
   "outputs": [],
   "execution_count": null
  },
  {
   "metadata": {},
   "cell_type": "code",
   "source": [
    "# Adding elements to a list\n",
    "my_list = [1, 2, 3]\n",
    "my_list.append(4)\n",
    "my_list"
   ],
   "id": "9129ed8da0c519c9",
   "outputs": [],
   "execution_count": null
  },
  {
   "metadata": {},
   "cell_type": "code",
   "source": [
    "# Printing list subsets\n",
    "my_list[:2]"
   ],
   "id": "59641c8a6ac9dc82",
   "outputs": [],
   "execution_count": null
  },
  {
   "metadata": {},
   "cell_type": "code",
   "source": [
    "# Creating dictionaries and getting values using keys\n",
    "my_dict = {\"Key1\": \"Value1\", \"Key2\": \"Value2\"}\n",
    "my_dict[\"Key1\"]"
   ],
   "id": "7c99f580b4c645ff",
   "outputs": [],
   "execution_count": null
  },
  {
   "metadata": {},
   "cell_type": "code",
   "source": [
    "# Example of sets\n",
    "{1, 1, 1, 1, 2, 3, 4, 5, 5, 5, 5, 55}"
   ],
   "id": "383785d8fbd7c499",
   "outputs": [],
   "execution_count": null
  },
  {
   "metadata": {},
   "cell_type": "code",
   "source": [
    "# if, elif and else\n",
    "if 1 > 2:\n",
    "    print(1)\n",
    "elif 2 > 3:\n",
    "    print(2)\n",
    "else:\n",
    "    print(\"Nope\")"
   ],
   "id": "2c893a6a5dcdf883",
   "outputs": [],
   "execution_count": null
  },
  {
   "metadata": {},
   "cell_type": "code",
   "source": [
    "# Printing members of a list using for loop\n",
    "my_list2 = [1, 2, 3, 4, 5, 6, 7, 8, 9, 10]\n",
    "\n",
    "for i in my_list2:\n",
    "    print(i)"
   ],
   "id": "3e6f4db939746e9d",
   "outputs": [],
   "execution_count": null
  },
  {
   "metadata": {},
   "cell_type": "code",
   "source": [
    "# Printing elements of the list using while loop\n",
    "item = 0\n",
    "while item < 10:\n",
    "    print(my_list2[item])\n",
    "    item += 1"
   ],
   "id": "c1e7f62b21f939b9",
   "outputs": [],
   "execution_count": null
  },
  {
   "metadata": {},
   "cell_type": "code",
   "source": [
    "# Function to print parameters\n",
    "def print_params(param1, param2):\n",
    "    print(f'First param: {param1}')\n",
    "    print(f'Second param: {param2}')\n",
    "    \n",
    "print_params('Cat', 'Dog')"
   ],
   "id": "4138e287d1a741a0",
   "outputs": [],
   "execution_count": null
  },
  {
   "metadata": {},
   "cell_type": "code",
   "source": [
    "# Function to get change\n",
    "\n",
    "def make_change(money):\n",
    "    num_coins = []\n",
    "    coin_names = ['Quarters', 'Dimes', 'Nickels']\n",
    "    \n",
    "    # Check if the money is not a negative number or more than 100\n",
    "    if money < 0 or money > 100:\n",
    "        print('Error: The input is negative or more than 100')\n",
    "    \n",
    "    # Round values\n",
    "    round_money = round(money / 5) * 5\n",
    "    \n",
    "    # Get number of coins using integer division and the remainder with modulus\n",
    "    quarters = round_money // 25\n",
    "    round_money %= 25\n",
    "    dimes = round_money // 10\n",
    "    round_money %= 10\n",
    "    nickels = round_money // 5    \n",
    "    \n",
    "    # Add values to list\n",
    "    num_coins.append(quarters)\n",
    "    num_coins.append(dimes)\n",
    "    num_coins.append(nickels)\n",
    "    \n",
    "    # For loop to iterate through the list getting the index and value to format the text properly\n",
    "    text = f'{money} cents require'\n",
    "    for index, num in enumerate(num_coins):\n",
    "        if num == 0:\n",
    "            continue\n",
    "            \n",
    "        text += f', {num} {coin_names[index]}'\n",
    "        \n",
    "    # Print the formatted text\n",
    "    print(text)\n",
    "    \n",
    "make_change(99)"
   ],
   "id": "98e7664af55e6956",
   "outputs": [],
   "execution_count": null
  }
 ],
 "metadata": {
  "kernelspec": {
   "display_name": "Python 3",
   "language": "python",
   "name": "python3"
  },
  "language_info": {
   "codemirror_mode": {
    "name": "ipython",
    "version": 2
   },
   "file_extension": ".py",
   "mimetype": "text/x-python",
   "name": "python",
   "nbconvert_exporter": "python",
   "pygments_lexer": "ipython2",
   "version": "2.7.6"
  }
 },
 "nbformat": 4,
 "nbformat_minor": 5
}
