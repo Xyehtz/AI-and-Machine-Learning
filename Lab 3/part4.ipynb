{
 "cells": [
  {
   "cell_type": "code",
   "id": "initial_id",
   "metadata": {
    "collapsed": true
   },
   "source": [
    "from itertools import count\n",
    "\n",
    "# Import the seaborn library\n",
    "# b. Load the \"titanic\" dataset using Seaborn's load_dataset function and store it in the variable\n",
    "# titanic.\n",
    "# c. Display the first few records of the titanic dataset to examine its structure\n",
    "\n",
    "import seaborn as sns\n",
    "\n",
    "sns.set_palette('bright')\n",
    "\n",
    "titanic = sns.load_dataset('titanic')\n",
    "titanic.head()"
   ],
   "outputs": [],
   "execution_count": null
  },
  {
   "metadata": {},
   "cell_type": "code",
   "source": [
    "#  Clean the dataset by removing unnecessary columns like embark_town, deck and embarked columns\n",
    "# from the titanic dataset and then display the first few records to confirm the changes.\n",
    "# 11. Change sex data (male = 0, female=1) so that it is easier to interpret for processing and plotting.\n",
    "# 12. Display a sample of the titanic dataset\n",
    "\n",
    "titanic.drop('embark_town', axis=1, inplace=True)\n",
    "titanic.drop('deck', axis=1, inplace=True)\n",
    "titanic.drop('embarked', axis=1, inplace=True)\n",
    "titanic.info()"
   ],
   "id": "fbaaa618ba687a88",
   "outputs": [],
   "execution_count": null
  },
  {
   "metadata": {},
   "cell_type": "code",
   "source": [
    "titanic['sex'].replace({'male': 0, 'female': 1}, inplace=True)\n",
    "titanic.sample()"
   ],
   "id": "2f253a185e8ca4e2",
   "outputs": [],
   "execution_count": null
  },
  {
   "metadata": {},
   "cell_type": "code",
   "source": [
    "# generate a bar plot to examine the survival rates by ‘sex’ in the titanic dataset.\n",
    "# b. Interpret the visualization and write down a conclusion in the following box\n",
    "\n",
    "sns.barplot(x='sex', y='survived', data=titanic)"
   ],
   "id": "3d9f1dcd4485dd0",
   "outputs": [],
   "execution_count": null
  },
  {
   "metadata": {},
   "cell_type": "code",
   "source": [
    "# Generate a bar plot to examine the survival rates by ‘alone’ in the titanic dataset.\n",
    "# d. Interpret the visualization and write down a conclusion in the following box\n",
    "\n",
    "sns.barplot(x='alone', y='survived', data=titanic)"
   ],
   "id": "3d8362cdd074322",
   "outputs": [],
   "execution_count": null
  },
  {
   "metadata": {},
   "cell_type": "code",
   "source": [
    "# Generate a bar plot to examine the survival rates by ‘adult_male’ in the titanic dataset.\n",
    "# f. Interpret the visualization and write down a conclusion in the following box\n",
    "\n",
    "sns.barplot(x='adult_male', y='survived', data=titanic)"
   ],
   "id": "42e7cb1764f2cfb7",
   "outputs": [],
   "execution_count": null
  },
  {
   "metadata": {},
   "cell_type": "code",
   "source": [
    "# Generate a bar plot to examine the survival rates by ‘siblings or spouses (sibsp)’ in the titanic\n",
    "# dataset.\n",
    "# h. Interpret the visualization and write down a conclusion in the following box\n",
    "\n",
    "sns.barplot(x='sibsp', y='survived', data=titanic)"
   ],
   "id": "9f227ab6355b672b",
   "outputs": [],
   "execution_count": null
  },
  {
   "metadata": {},
   "cell_type": "code",
   "source": [
    "# Generate a bar plot to examine the survival rates by ‘class’ and ‘who’ in the titanic dataset.\n",
    "# j. Interpret the visualization and write down a conclusion in the following box\n",
    "\n",
    "sns.barplot(x='class', hue='who', y='survived', data=titanic)"
   ],
   "id": "d738d7b2ab605b47",
   "outputs": [],
   "execution_count": null
  },
  {
   "metadata": {},
   "cell_type": "code",
   "source": [
    "# Use the query method to compare the row count of survivors in the segment to the total in the\n",
    "# segment that you identified that rates high at survival.\n",
    "# l. Interpret the results and write down a conclusion in the following box.\n",
    "\n",
    "survived_num = titanic.query('pclass==1 & who==\"woman\"')\n",
    "survived_num = survived_num['survived'].value_counts()\n",
    "sns.barplot(x=survived_num.index, y=survived_num.values)"
   ],
   "id": "b183863801920746",
   "outputs": [],
   "execution_count": null
  }
 ],
 "metadata": {
  "kernelspec": {
   "display_name": "Python 3",
   "language": "python",
   "name": "python3"
  },
  "language_info": {
   "codemirror_mode": {
    "name": "ipython",
    "version": 2
   },
   "file_extension": ".py",
   "mimetype": "text/x-python",
   "name": "python",
   "nbconvert_exporter": "python",
   "pygments_lexer": "ipython2",
   "version": "2.7.6"
  }
 },
 "nbformat": 4,
 "nbformat_minor": 5
}
