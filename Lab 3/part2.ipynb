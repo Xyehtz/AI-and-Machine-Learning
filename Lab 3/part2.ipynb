{
 "cells": [
  {
   "metadata": {},
   "cell_type": "code",
   "source": [
    "# Generate a dataset of 100 random values from the range 1 to 1000 and display them. Hint:use\n",
    "# the sample function in the random module and use the python range function.\n",
    "# b. Display the values in a histogram. Please note that histogram will use the default setting of 10\n",
    "# bins to group the data\n",
    "\n",
    "from random import sample\n",
    "import matplotlib.pyplot as plt\n",
    "import numpy as np\n",
    "\n",
    "data = sample(range(0, 1000), 100)\n",
    "plt.hist(data)"
   ],
   "id": "a2d3957f731ce1a3",
   "outputs": [],
   "execution_count": null
  },
  {
   "metadata": {},
   "cell_type": "code",
   "source": [
    "# Generate a random set of 100 points for a linear representation by creating x as a sequence\n",
    "# from 0 to 10. Display x. Hint: use the linspace function in the numpy module.\n",
    "# b. Generate y as x with added random noise. Display y. Hint: use this expression for random\n",
    "#     noise : 0.5 * random.rand( len(x) ).\n",
    "# c. Plot these points as a scatter plot with a line width of 1 to visualize the relationship between x\n",
    "# and y. Hint: use the scatter function\n",
    "\n",
    "x = np.linspace(0, 10, 100)\n",
    "x"
   ],
   "id": "fa08e470633325f3",
   "outputs": [],
   "execution_count": null
  },
  {
   "metadata": {},
   "cell_type": "code",
   "source": [
    "y = 0.5 * np.random.rand(len(x))\n",
    "y"
   ],
   "id": "c68ef07f3df65755",
   "outputs": [],
   "execution_count": null
  },
  {
   "metadata": {},
   "cell_type": "code",
   "source": [
    "plt.scatter(x, y, lw=1)\n",
    "plt.xlabel('X Label')\n",
    "plt.ylabel('Y Label')"
   ],
   "id": "df3b4c90580039db",
   "outputs": [],
   "execution_count": null
  },
  {
   "metadata": {},
   "cell_type": "code",
   "source": [
    "# Generate discrete data for a bar graph by creating x as an array of values and y as the square\n",
    "# of x.\n",
    "# b. Plot these values as a bar graph (use the bar function) to represent the relationship between x\n",
    "# and y\n",
    "\n",
    "x = np.arange(0, 10, 2)\n",
    "y = x ** 2\n",
    "plt.bar(x, y)\n",
    "plt.xlabel('X Label')\n",
    "plt.ylabel('Y Label')\n",
    "plt.show()"
   ],
   "id": "9da427f5965c954c",
   "outputs": [],
   "execution_count": null
  }
 ],
 "metadata": {
  "kernelspec": {
   "display_name": "Python 3",
   "language": "python",
   "name": "python3"
  },
  "language_info": {
   "codemirror_mode": {
    "name": "ipython",
    "version": 2
   },
   "file_extension": ".py",
   "mimetype": "text/x-python",
   "name": "python",
   "nbconvert_exporter": "python",
   "pygments_lexer": "ipython2",
   "version": "2.7.6"
  }
 },
 "nbformat": 4,
 "nbformat_minor": 5
}
