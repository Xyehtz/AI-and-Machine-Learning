{
 "cells": [
  {
   "cell_type": "code",
   "id": "initial_id",
   "metadata": {
    "collapsed": true
   },
   "source": [
    "# Import the Pyplot module from Matplotlib for creating visualizations (matplotlib.pyplot)\n",
    "#     b. Import NumPy for numerical operations and array handling.\n",
    "# c. Create a sequence from 0 to 5 with 11 values using the linspace function and display it.\n",
    "\n",
    "import matplotlib.pyplot as plt\n",
    "import numpy as np\n",
    "from skimage.color import ycbcr2rgb\n",
    "\n",
    "x = np.linspace(0, 5, 11)\n",
    "x"
   ],
   "outputs": [],
   "execution_count": null
  },
  {
   "metadata": {},
   "cell_type": "code",
   "source": [
    "# d. Create a second sequence using x**2. (X2 = squared Values) and display it.\n",
    "y = x ** 2\n",
    "y"
   ],
   "id": "b20f5cda174bfab9",
   "outputs": [],
   "execution_count": null
  },
  {
   "metadata": {},
   "cell_type": "code",
   "source": [
    "# Plot a graph of x versus y using the plot function. Use different line styles and colors (r, b, g).\n",
    "# Label the x-axis as 'x label', the y-axis as 'y label', and add the title 'My Title'. (Please note that\n",
    "# outside the Jupyter Notebook you may display the plot using plt.show() function).\n",
    "\n",
    "plt.plot(x, y, 'b')\n",
    "plt.xlabel('X Label')\n",
    "plt.ylabel('Y Label')\n",
    "plt.title('My Title')\n",
    "plt.show()"
   ],
   "id": "91258a4e5df5138c",
   "outputs": [],
   "execution_count": null
  },
  {
   "metadata": {},
   "cell_type": "code",
   "source": [
    "# Create a second sequence y2, as y2 = x3 , display the values.\n",
    "# b. Create a figure and plot both y (x2) and y2 (x3) against x on the same graph. Customize the\n",
    "# axes, add labels for the x-axis and y-axis, give the plot a title, and include a legend to\n",
    "# differentiate between the two lines. Hint: use the figure and add_axes functions\n",
    "\n",
    "y2 = x ** 3\n",
    "y2"
   ],
   "id": "954485ab90b33937",
   "outputs": [],
   "execution_count": null
  },
  {
   "metadata": {},
   "cell_type": "code",
   "source": [
    "fig = plt.figure()\n",
    "ax = fig.add_axes([0, 0, 1, 1])\n",
    "ax.plot(x, y, label='x**2')\n",
    "ax.plot(x, y2, label='x**3')\n",
    "plt.xlabel('X Label')\n",
    "plt.ylabel('Y Label')\n",
    "plt.title('My Title')\n",
    "ax.legend()"
   ],
   "id": "fdbf38b01049466a",
   "outputs": [],
   "execution_count": null
  }
 ],
 "metadata": {
  "kernelspec": {
   "display_name": "Python 3",
   "language": "python",
   "name": "python3"
  },
  "language_info": {
   "codemirror_mode": {
    "name": "ipython",
    "version": 2
   },
   "file_extension": ".py",
   "mimetype": "text/x-python",
   "name": "python",
   "nbconvert_exporter": "python",
   "pygments_lexer": "ipython2",
   "version": "2.7.6"
  }
 },
 "nbformat": 4,
 "nbformat_minor": 5
}
