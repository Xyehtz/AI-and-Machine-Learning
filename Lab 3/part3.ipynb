{
 "cells": [
  {
   "cell_type": "code",
   "id": "initial_id",
   "metadata": {
    "collapsed": true
   },
   "source": [
    "# Import Seaborn module as sns.\n",
    "# b. Load the built-in Seaborn dataset \"glue\" using load_dataset('glue') and store it in the variable\n",
    "# glue.\n",
    "# c. Display the first 5 records of the dataset with the head method.\n",
    "# d. Create a distribution plot of the \"Score\" column from the dataset\n",
    "\n",
    "import seaborn as sns\n",
    "\n",
    "glue = sns.load_dataset('glue')\n",
    "glue.head(5)"
   ],
   "outputs": [],
   "execution_count": null
  },
  {
   "metadata": {},
   "cell_type": "code",
   "source": "sns.displot(glue['Score'])",
   "id": "7f862f16a9d45dd8",
   "outputs": [],
   "execution_count": null
  }
 ],
 "metadata": {
  "kernelspec": {
   "display_name": "Python 3",
   "language": "python",
   "name": "python3"
  },
  "language_info": {
   "codemirror_mode": {
    "name": "ipython",
    "version": 2
   },
   "file_extension": ".py",
   "mimetype": "text/x-python",
   "name": "python",
   "nbconvert_exporter": "python",
   "pygments_lexer": "ipython2",
   "version": "2.7.6"
  }
 },
 "nbformat": 4,
 "nbformat_minor": 5
}
