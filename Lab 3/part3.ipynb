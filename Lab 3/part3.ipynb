{
 "cells": [
  {
   "cell_type": "code",
   "id": "initial_id",
   "metadata": {
    "collapsed": true,
    "ExecuteTime": {
     "end_time": "2024-09-17T13:15:41.351967Z",
     "start_time": "2024-09-17T13:15:41.316886Z"
    }
   },
   "source": [
    "# Import Seaborn module as sns.\n",
    "# b. Load the built-in Seaborn dataset \"glue\" using load_dataset('glue') and store it in the variable\n",
    "# glue.\n",
    "# c. Display the first 5 records of the dataset with the head method.\n",
    "# d. Create a distribution plot of the \"Score\" column from the dataset\n",
    "\n",
    "import seaborn as sns\n",
    "\n",
    "glue = sns.load_dataset('glue')\n",
    "glue.head(5)"
   ],
   "outputs": [
    {
     "data": {
      "text/plain": [
       "         Model  Year      Encoder  Task  Score\n",
       "0        ERNIE  2019  Transformer  CoLA   75.5\n",
       "1           T5  2019  Transformer  CoLA   71.6\n",
       "2      RoBERTa  2019  Transformer  CoLA   67.8\n",
       "3         BERT  2018  Transformer  CoLA   60.5\n",
       "4  BiLSTM+ELMo  2018         LSTM  CoLA   32.1"
      ],
      "text/html": [
       "<div>\n",
       "<style scoped>\n",
       "    .dataframe tbody tr th:only-of-type {\n",
       "        vertical-align: middle;\n",
       "    }\n",
       "\n",
       "    .dataframe tbody tr th {\n",
       "        vertical-align: top;\n",
       "    }\n",
       "\n",
       "    .dataframe thead th {\n",
       "        text-align: right;\n",
       "    }\n",
       "</style>\n",
       "<table border=\"1\" class=\"dataframe\">\n",
       "  <thead>\n",
       "    <tr style=\"text-align: right;\">\n",
       "      <th></th>\n",
       "      <th>Model</th>\n",
       "      <th>Year</th>\n",
       "      <th>Encoder</th>\n",
       "      <th>Task</th>\n",
       "      <th>Score</th>\n",
       "    </tr>\n",
       "  </thead>\n",
       "  <tbody>\n",
       "    <tr>\n",
       "      <th>0</th>\n",
       "      <td>ERNIE</td>\n",
       "      <td>2019</td>\n",
       "      <td>Transformer</td>\n",
       "      <td>CoLA</td>\n",
       "      <td>75.5</td>\n",
       "    </tr>\n",
       "    <tr>\n",
       "      <th>1</th>\n",
       "      <td>T5</td>\n",
       "      <td>2019</td>\n",
       "      <td>Transformer</td>\n",
       "      <td>CoLA</td>\n",
       "      <td>71.6</td>\n",
       "    </tr>\n",
       "    <tr>\n",
       "      <th>2</th>\n",
       "      <td>RoBERTa</td>\n",
       "      <td>2019</td>\n",
       "      <td>Transformer</td>\n",
       "      <td>CoLA</td>\n",
       "      <td>67.8</td>\n",
       "    </tr>\n",
       "    <tr>\n",
       "      <th>3</th>\n",
       "      <td>BERT</td>\n",
       "      <td>2018</td>\n",
       "      <td>Transformer</td>\n",
       "      <td>CoLA</td>\n",
       "      <td>60.5</td>\n",
       "    </tr>\n",
       "    <tr>\n",
       "      <th>4</th>\n",
       "      <td>BiLSTM+ELMo</td>\n",
       "      <td>2018</td>\n",
       "      <td>LSTM</td>\n",
       "      <td>CoLA</td>\n",
       "      <td>32.1</td>\n",
       "    </tr>\n",
       "  </tbody>\n",
       "</table>\n",
       "</div>"
      ]
     },
     "execution_count": 1,
     "metadata": {},
     "output_type": "execute_result"
    }
   ],
   "execution_count": 1
  },
  {
   "metadata": {
    "ExecuteTime": {
     "end_time": "2024-09-17T13:15:41.854828Z",
     "start_time": "2024-09-17T13:15:41.406204Z"
    }
   },
   "cell_type": "code",
   "source": "sns.displot(glue['Score'])",
   "id": "7f862f16a9d45dd8",
   "outputs": [
    {
     "data": {
      "text/plain": [
       "<seaborn.axisgrid.FacetGrid at 0x15adc000aa0>"
      ]
     },
     "execution_count": 2,
     "metadata": {},
     "output_type": "execute_result"
    },
    {
     "data": {
      "text/plain": [
       "<Figure size 500x500 with 1 Axes>"
      ],
      "image/png": "[encoded data removed]"
     },
     "metadata": {},
     "output_type": "display_data"
    }
   ],
   "execution_count": 2
  }
 ],
 "metadata": {
  "kernelspec": {
   "display_name": "Python 3",
   "language": "python",
   "name": "python3"
  },
  "language_info": {
   "codemirror_mode": {
    "name": "ipython",
    "version": 2
   },
   "file_extension": ".py",
   "mimetype": "text/x-python",
   "name": "python",
   "nbconvert_exporter": "python",
   "pygments_lexer": "ipython2",
   "version": "2.7.6"
  }
 },
 "nbformat": 4,
 "nbformat_minor": 5
}
