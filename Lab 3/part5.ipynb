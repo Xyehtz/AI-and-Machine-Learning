{
 "cells": [
  {
   "metadata": {
    "collapsed": true
   },
   "cell_type": "code",
   "source": [
    "# In this exercise you are going to look at the seaborn dataset for taxis. You will need the command\n",
    "# sns.load_dataset('taxis')\n",
    "# 2. Use the data and some of the graphing techniques in class to find the following:\n",
    "#     a. A bar graph that shows the distance travelled per day\n",
    "\n",
    "import seaborn as sns\n",
    "import matplotlib.pyplot as plt\n",
    "\n",
    "taxis = sns.load_dataset('taxis')\n",
    "taxis['date_tx'] = taxis['dropoff'].dt.date\n",
    "\n",
    "fig, ax = plt.subplots(figsize=(19, 10))\n",
    "\n",
    "sns.barplot(x='date_tx', y='distance', data=taxis, estimator=sum, ax=ax)\n",
    "plt.xlabel('Day')\n",
    "plt.ylabel('Distance')"
   ],
   "id": "initial_id",
   "outputs": [],
   "execution_count": null
  },
  {
   "metadata": {},
   "cell_type": "code",
   "source": [
    "fig, ax = plt.subplots(figsize=(19, 10))\n",
    "\n",
    "sns.barplot(x='date_tx', y='fare', data=taxis, estimator=sum, ax=ax)\n",
    "plt.xlabel('Date')\n",
    "plt.ylabel('Fare')"
   ],
   "id": "20394d120508a889",
   "outputs": [],
   "execution_count": null
  },
  {
   "metadata": {},
   "cell_type": "code",
   "source": [
    "fig, ax = plt.subplots(figsize=(19, 10))\n",
    "\n",
    "sns.barplot(x='fare', y='distance', data=taxis, ax=ax)\n",
    "plt.xlabel('Distance')\n",
    "plt.ylabel('Fare')"
   ],
   "id": "d323cd376cdf9db0",
   "outputs": [],
   "execution_count": null
  },
  {
   "metadata": {},
   "cell_type": "code",
   "source": "taxis['total'].describe(percentiles=[])",
   "id": "9a1e88fabfefcfd5",
   "outputs": [],
   "execution_count": null
  },
  {
   "metadata": {},
   "cell_type": "code",
   "source": "taxis['distance'].describe(percentiles=[])",
   "id": "36a088872340bdb7",
   "outputs": [],
   "execution_count": null
  }
 ],
 "metadata": {
  "kernelspec": {
   "display_name": "Python 3",
   "language": "python",
   "name": "python3"
  },
  "language_info": {
   "codemirror_mode": {
    "name": "ipython",
    "version": 2
   },
   "file_extension": ".py",
   "mimetype": "text/x-python",
   "name": "python",
   "nbconvert_exporter": "python",
   "pygments_lexer": "ipython2",
   "version": "2.7.6"
  }
 },
 "nbformat": 4,
 "nbformat_minor": 5
}
