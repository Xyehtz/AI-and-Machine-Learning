{
 "cells": [
  {
   "cell_type": "code",
   "id": "initial_id",
   "metadata": {
    "collapsed": true,
    "ExecuteTime": {
     "end_time": "2024-09-10T22:20:30.055474Z",
     "start_time": "2024-09-10T22:20:28.739991Z"
    }
   },
   "source": [
    "# a.\tImport NumPy and Pandas.\n",
    "# b.\tGenerate three lists of four random integers between 1 and 20 using NumPy.\n",
    "# c.\tDefine a list named labels with values ['a', 'b', 'c'].\n",
    "# d.\tDefine a list named cols with values ['W', 'X', 'Y', 'Z'].\n",
    "# e.\tCombine the three lists into a list of lists, dataArray.\n",
    "# f.\tCreate a DataFrame dataFrame using dataArray as data, labels as index, and cols as columns.\n",
    "# g.\tDisplay the DataFrame.\n",
    "\n",
    "# Imports\n",
    "import pandas as pd\n",
    "import numpy as np\n",
    "\n",
    "# Array creation\n",
    "list1 = np.random.randint(1, 21, 4)\n",
    "list2 = np.random.randint(1, 21, 4)\n",
    "list3 = np.random.randint(1, 21, 4)\n",
    "\n",
    "labels = ['a', 'b', 'c']\n",
    "cols = ['W', 'X', 'Y', 'Z']\n",
    "\n",
    "# List of lists using NumPy array\n",
    "dataArray = np.array([list1, list2, list3])\n",
    "\n",
    "# Create dataFrame\n",
    "dataFrame = pd.DataFrame(data=dataArray, index=labels, columns=cols)\n",
    "\n",
    "# Display dataFrame\n",
    "dataFrame"
   ],
   "outputs": [
    {
     "data": {
      "text/plain": [
       "    W   X   Y   Z\n",
       "a   7  19   1   7\n",
       "b  13  14  16  20\n",
       "c   8  17  16  16"
      ],
      "text/html": [
       "<div>\n",
       "<style scoped>\n",
       "    .dataframe tbody tr th:only-of-type {\n",
       "        vertical-align: middle;\n",
       "    }\n",
       "\n",
       "    .dataframe tbody tr th {\n",
       "        vertical-align: top;\n",
       "    }\n",
       "\n",
       "    .dataframe thead th {\n",
       "        text-align: right;\n",
       "    }\n",
       "</style>\n",
       "<table border=\"1\" class=\"dataframe\">\n",
       "  <thead>\n",
       "    <tr style=\"text-align: right;\">\n",
       "      <th></th>\n",
       "      <th>W</th>\n",
       "      <th>X</th>\n",
       "      <th>Y</th>\n",
       "      <th>Z</th>\n",
       "    </tr>\n",
       "  </thead>\n",
       "  <tbody>\n",
       "    <tr>\n",
       "      <th>a</th>\n",
       "      <td>7</td>\n",
       "      <td>19</td>\n",
       "      <td>1</td>\n",
       "      <td>7</td>\n",
       "    </tr>\n",
       "    <tr>\n",
       "      <th>b</th>\n",
       "      <td>13</td>\n",
       "      <td>14</td>\n",
       "      <td>16</td>\n",
       "      <td>20</td>\n",
       "    </tr>\n",
       "    <tr>\n",
       "      <th>c</th>\n",
       "      <td>8</td>\n",
       "      <td>17</td>\n",
       "      <td>16</td>\n",
       "      <td>16</td>\n",
       "    </tr>\n",
       "  </tbody>\n",
       "</table>\n",
       "</div>"
      ]
     },
     "execution_count": 1,
     "metadata": {},
     "output_type": "execute_result"
    }
   ],
   "execution_count": 1
  },
  {
   "metadata": {
    "ExecuteTime": {
     "end_time": "2024-09-10T22:40:29.127824Z",
     "start_time": "2024-09-10T22:40:29.120344Z"
    }
   },
   "cell_type": "code",
   "source": [
    "# a.\tAccess the 'X' column of the DataFrame, which produces a Pandas Series.\n",
    "# b.\tUse double brackets with ['X', 'Y'] to select these columns, producing a DataFrame.\n",
    "# c.\tAccess the 'Z' column of the DataFrame using dot notation, which produces a Pandas Series.\n",
    "# d.\tCreate a new column in the DataFrame, sum the 'X' and 'Y' columns, and name the new column 'Sum(X+Y)'\n",
    "\n",
    "# Access \"X\" column\n",
    "dataFrame['X']"
   ],
   "id": "f4a9015cf3f2c8f2",
   "outputs": [
    {
     "data": {
      "text/plain": [
       "a    19\n",
       "b    14\n",
       "c    17\n",
       "Name: X, dtype: int32"
      ]
     },
     "execution_count": 2,
     "metadata": {},
     "output_type": "execute_result"
    }
   ],
   "execution_count": 2
  },
  {
   "metadata": {
    "ExecuteTime": {
     "end_time": "2024-09-10T22:50:13.465490Z",
     "start_time": "2024-09-10T22:50:13.445457Z"
    }
   },
   "cell_type": "code",
   "source": [
    "# Access columns X and Y\n",
    "dataFrame[['X', 'Y']]"
   ],
   "id": "266600b4f6c8fccb",
   "outputs": [
    {
     "data": {
      "text/plain": [
       "    X   Y\n",
       "a  19   1\n",
       "b  14  16\n",
       "c  17  16"
      ],
      "text/html": [
       "<div>\n",
       "<style scoped>\n",
       "    .dataframe tbody tr th:only-of-type {\n",
       "        vertical-align: middle;\n",
       "    }\n",
       "\n",
       "    .dataframe tbody tr th {\n",
       "        vertical-align: top;\n",
       "    }\n",
       "\n",
       "    .dataframe thead th {\n",
       "        text-align: right;\n",
       "    }\n",
       "</style>\n",
       "<table border=\"1\" class=\"dataframe\">\n",
       "  <thead>\n",
       "    <tr style=\"text-align: right;\">\n",
       "      <th></th>\n",
       "      <th>X</th>\n",
       "      <th>Y</th>\n",
       "    </tr>\n",
       "  </thead>\n",
       "  <tbody>\n",
       "    <tr>\n",
       "      <th>a</th>\n",
       "      <td>19</td>\n",
       "      <td>1</td>\n",
       "    </tr>\n",
       "    <tr>\n",
       "      <th>b</th>\n",
       "      <td>14</td>\n",
       "      <td>16</td>\n",
       "    </tr>\n",
       "    <tr>\n",
       "      <th>c</th>\n",
       "      <td>17</td>\n",
       "      <td>16</td>\n",
       "    </tr>\n",
       "  </tbody>\n",
       "</table>\n",
       "</div>"
      ]
     },
     "execution_count": 4,
     "metadata": {},
     "output_type": "execute_result"
    }
   ],
   "execution_count": 4
  },
  {
   "metadata": {
    "ExecuteTime": {
     "end_time": "2024-09-10T22:50:12.518521Z",
     "start_time": "2024-09-10T22:50:12.512479Z"
    }
   },
   "cell_type": "code",
   "source": [
    "# Access Z column using dot notation\n",
    "dataFrame.Z"
   ],
   "id": "e0e53f1c4744176d",
   "outputs": [
    {
     "data": {
      "text/plain": [
       "a     7\n",
       "b    20\n",
       "c    16\n",
       "Name: Z, dtype: int32"
      ]
     },
     "execution_count": 3,
     "metadata": {},
     "output_type": "execute_result"
    }
   ],
   "execution_count": 3
  },
  {
   "metadata": {
    "ExecuteTime": {
     "end_time": "2024-09-10T22:50:31.630824Z",
     "start_time": "2024-09-10T22:50:31.617335Z"
    }
   },
   "cell_type": "code",
   "source": [
    "# Create new column adding X and Y columns\n",
    "# Access Z column using dot notation\n",
    "dataFrame.insert(4, 'Sum(X+Y)', dataFrame.X + dataFrame.Y, True)\n",
    "dataFrame"
   ],
   "id": "55a765fe9748ed0c",
   "outputs": [
    {
     "data": {
      "text/plain": [
       "    W   X   Y   Z  Sum(X+Y)\n",
       "a   7  19   1   7        20\n",
       "b  13  14  16  20        30\n",
       "c   8  17  16  16        33"
      ],
      "text/html": [
       "<div>\n",
       "<style scoped>\n",
       "    .dataframe tbody tr th:only-of-type {\n",
       "        vertical-align: middle;\n",
       "    }\n",
       "\n",
       "    .dataframe tbody tr th {\n",
       "        vertical-align: top;\n",
       "    }\n",
       "\n",
       "    .dataframe thead th {\n",
       "        text-align: right;\n",
       "    }\n",
       "</style>\n",
       "<table border=\"1\" class=\"dataframe\">\n",
       "  <thead>\n",
       "    <tr style=\"text-align: right;\">\n",
       "      <th></th>\n",
       "      <th>W</th>\n",
       "      <th>X</th>\n",
       "      <th>Y</th>\n",
       "      <th>Z</th>\n",
       "      <th>Sum(X+Y)</th>\n",
       "    </tr>\n",
       "  </thead>\n",
       "  <tbody>\n",
       "    <tr>\n",
       "      <th>a</th>\n",
       "      <td>7</td>\n",
       "      <td>19</td>\n",
       "      <td>1</td>\n",
       "      <td>7</td>\n",
       "      <td>20</td>\n",
       "    </tr>\n",
       "    <tr>\n",
       "      <th>b</th>\n",
       "      <td>13</td>\n",
       "      <td>14</td>\n",
       "      <td>16</td>\n",
       "      <td>20</td>\n",
       "      <td>30</td>\n",
       "    </tr>\n",
       "    <tr>\n",
       "      <th>c</th>\n",
       "      <td>8</td>\n",
       "      <td>17</td>\n",
       "      <td>16</td>\n",
       "      <td>16</td>\n",
       "      <td>33</td>\n",
       "    </tr>\n",
       "  </tbody>\n",
       "</table>\n",
       "</div>"
      ]
     },
     "execution_count": 5,
     "metadata": {},
     "output_type": "execute_result"
    }
   ],
   "execution_count": 5
  },
  {
   "metadata": {
    "ExecuteTime": {
     "end_time": "2024-09-10T22:51:06.191855Z",
     "start_time": "2024-09-10T22:51:06.182916Z"
    }
   },
   "cell_type": "code",
   "source": [
    "# a.\tUse the remove function (method in the data frame) to remove the sum column. To make changes permanent, use inplace=True. Set axis=1 to specify column operations, such as removing the 'Sum(X+Y)' column.\n",
    "# b.\tDisplay the data frame after removing the sum column.\n",
    "\n",
    "dataFrame.drop('Sum(X+Y)', axis=1, inplace=True)\n",
    "dataFrame"
   ],
   "id": "aedfdc1f5e2805cf",
   "outputs": [
    {
     "data": {
      "text/plain": [
       "    W   X   Y   Z\n",
       "a   7  19   1   7\n",
       "b  13  14  16  20\n",
       "c   8  17  16  16"
      ],
      "text/html": [
       "<div>\n",
       "<style scoped>\n",
       "    .dataframe tbody tr th:only-of-type {\n",
       "        vertical-align: middle;\n",
       "    }\n",
       "\n",
       "    .dataframe tbody tr th {\n",
       "        vertical-align: top;\n",
       "    }\n",
       "\n",
       "    .dataframe thead th {\n",
       "        text-align: right;\n",
       "    }\n",
       "</style>\n",
       "<table border=\"1\" class=\"dataframe\">\n",
       "  <thead>\n",
       "    <tr style=\"text-align: right;\">\n",
       "      <th></th>\n",
       "      <th>W</th>\n",
       "      <th>X</th>\n",
       "      <th>Y</th>\n",
       "      <th>Z</th>\n",
       "    </tr>\n",
       "  </thead>\n",
       "  <tbody>\n",
       "    <tr>\n",
       "      <th>a</th>\n",
       "      <td>7</td>\n",
       "      <td>19</td>\n",
       "      <td>1</td>\n",
       "      <td>7</td>\n",
       "    </tr>\n",
       "    <tr>\n",
       "      <th>b</th>\n",
       "      <td>13</td>\n",
       "      <td>14</td>\n",
       "      <td>16</td>\n",
       "      <td>20</td>\n",
       "    </tr>\n",
       "    <tr>\n",
       "      <th>c</th>\n",
       "      <td>8</td>\n",
       "      <td>17</td>\n",
       "      <td>16</td>\n",
       "      <td>16</td>\n",
       "    </tr>\n",
       "  </tbody>\n",
       "</table>\n",
       "</div>"
      ]
     },
     "execution_count": 6,
     "metadata": {},
     "output_type": "execute_result"
    }
   ],
   "execution_count": 6
  },
  {
   "metadata": {
    "ExecuteTime": {
     "end_time": "2024-09-10T22:52:15.443604Z",
     "start_time": "2024-09-10T22:52:15.431704Z"
    }
   },
   "cell_type": "code",
   "source": [
    "# a.\tCreate a new DataFrame newRow with a single row [1, 2, 3, 4] and columns ['W', 'X', 'Y', 'Z'], and index ['d'].\n",
    "# b.\tUse the concat function in Pandas to concatenate newRow to the existing dataFrame using pd.concat([dataFrame, newRow]).\n",
    "# c.\tDisplay the updated DataFrame.\n",
    "\n",
    "# Create and display new DataFrame\n",
    "newRow = pd.DataFrame(data={1: 'W', 2: 'X', 3: 'Y', 4: 'Z'}, index=['d'])\n",
    "newRow"
   ],
   "id": "e73eb3d181bfcab5",
   "outputs": [
    {
     "data": {
      "text/plain": [
       "   1  2  3  4\n",
       "d  W  X  Y  Z"
      ],
      "text/html": [
       "<div>\n",
       "<style scoped>\n",
       "    .dataframe tbody tr th:only-of-type {\n",
       "        vertical-align: middle;\n",
       "    }\n",
       "\n",
       "    .dataframe tbody tr th {\n",
       "        vertical-align: top;\n",
       "    }\n",
       "\n",
       "    .dataframe thead th {\n",
       "        text-align: right;\n",
       "    }\n",
       "</style>\n",
       "<table border=\"1\" class=\"dataframe\">\n",
       "  <thead>\n",
       "    <tr style=\"text-align: right;\">\n",
       "      <th></th>\n",
       "      <th>1</th>\n",
       "      <th>2</th>\n",
       "      <th>3</th>\n",
       "      <th>4</th>\n",
       "    </tr>\n",
       "  </thead>\n",
       "  <tbody>\n",
       "    <tr>\n",
       "      <th>d</th>\n",
       "      <td>W</td>\n",
       "      <td>X</td>\n",
       "      <td>Y</td>\n",
       "      <td>Z</td>\n",
       "    </tr>\n",
       "  </tbody>\n",
       "</table>\n",
       "</div>"
      ]
     },
     "execution_count": 7,
     "metadata": {},
     "output_type": "execute_result"
    }
   ],
   "execution_count": 7
  },
  {
   "metadata": {
    "ExecuteTime": {
     "end_time": "2024-09-10T22:52:17.305527Z",
     "start_time": "2024-09-10T22:52:17.288272Z"
    }
   },
   "cell_type": "code",
   "source": [
    "# Concatenate the two DataFrames\n",
    "dataFrame = pd.concat([dataFrame, newRow])\n",
    "dataFrame"
   ],
   "id": "627b713ae7d4d70c",
   "outputs": [
    {
     "data": {
      "text/plain": [
       "      W     X     Y     Z    1    2    3    4\n",
       "a   7.0  19.0   1.0   7.0  NaN  NaN  NaN  NaN\n",
       "b  13.0  14.0  16.0  20.0  NaN  NaN  NaN  NaN\n",
       "c   8.0  17.0  16.0  16.0  NaN  NaN  NaN  NaN\n",
       "d   NaN   NaN   NaN   NaN    W    X    Y    Z"
      ],
      "text/html": [
       "<div>\n",
       "<style scoped>\n",
       "    .dataframe tbody tr th:only-of-type {\n",
       "        vertical-align: middle;\n",
       "    }\n",
       "\n",
       "    .dataframe tbody tr th {\n",
       "        vertical-align: top;\n",
       "    }\n",
       "\n",
       "    .dataframe thead th {\n",
       "        text-align: right;\n",
       "    }\n",
       "</style>\n",
       "<table border=\"1\" class=\"dataframe\">\n",
       "  <thead>\n",
       "    <tr style=\"text-align: right;\">\n",
       "      <th></th>\n",
       "      <th>W</th>\n",
       "      <th>X</th>\n",
       "      <th>Y</th>\n",
       "      <th>Z</th>\n",
       "      <th>1</th>\n",
       "      <th>2</th>\n",
       "      <th>3</th>\n",
       "      <th>4</th>\n",
       "    </tr>\n",
       "  </thead>\n",
       "  <tbody>\n",
       "    <tr>\n",
       "      <th>a</th>\n",
       "      <td>7.0</td>\n",
       "      <td>19.0</td>\n",
       "      <td>1.0</td>\n",
       "      <td>7.0</td>\n",
       "      <td>NaN</td>\n",
       "      <td>NaN</td>\n",
       "      <td>NaN</td>\n",
       "      <td>NaN</td>\n",
       "    </tr>\n",
       "    <tr>\n",
       "      <th>b</th>\n",
       "      <td>13.0</td>\n",
       "      <td>14.0</td>\n",
       "      <td>16.0</td>\n",
       "      <td>20.0</td>\n",
       "      <td>NaN</td>\n",
       "      <td>NaN</td>\n",
       "      <td>NaN</td>\n",
       "      <td>NaN</td>\n",
       "    </tr>\n",
       "    <tr>\n",
       "      <th>c</th>\n",
       "      <td>8.0</td>\n",
       "      <td>17.0</td>\n",
       "      <td>16.0</td>\n",
       "      <td>16.0</td>\n",
       "      <td>NaN</td>\n",
       "      <td>NaN</td>\n",
       "      <td>NaN</td>\n",
       "      <td>NaN</td>\n",
       "    </tr>\n",
       "    <tr>\n",
       "      <th>d</th>\n",
       "      <td>NaN</td>\n",
       "      <td>NaN</td>\n",
       "      <td>NaN</td>\n",
       "      <td>NaN</td>\n",
       "      <td>W</td>\n",
       "      <td>X</td>\n",
       "      <td>Y</td>\n",
       "      <td>Z</td>\n",
       "    </tr>\n",
       "  </tbody>\n",
       "</table>\n",
       "</div>"
      ]
     },
     "execution_count": 8,
     "metadata": {},
     "output_type": "execute_result"
    }
   ],
   "execution_count": 8
  }
 ],
 "metadata": {
  "kernelspec": {
   "display_name": "Python 3",
   "language": "python",
   "name": "python3"
  },
  "language_info": {
   "codemirror_mode": {
    "name": "ipython",
    "version": 2
   },
   "file_extension": ".py",
   "mimetype": "text/x-python",
   "name": "python",
   "nbconvert_exporter": "python",
   "pygments_lexer": "ipython2",
   "version": "2.7.6"
  }
 },
 "nbformat": 4,
 "nbformat_minor": 5
}
