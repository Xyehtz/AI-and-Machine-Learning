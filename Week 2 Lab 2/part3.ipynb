{
 "cells": [
  {
   "cell_type": "code",
   "id": "initial_id",
   "metadata": {
    "collapsed": true
   },
   "source": [
    "# a.\tImport NumPy and Pandas.\n",
    "# b.\tGenerate three lists of four random integers between 1 and 20 using NumPy.\n",
    "# c.\tDefine a list named labels with values ['a', 'b', 'c'].\n",
    "# d.\tDefine a list named cols with values ['W', 'X', 'Y', 'Z'].\n",
    "# e.\tCombine the three lists into a list of lists, dataArray.\n",
    "# f.\tCreate a DataFrame dataFrame using dataArray as data, labels as index, and cols as columns.\n",
    "# g.\tDisplay the DataFrame.\n",
    "\n",
    "# Imports\n",
    "import pandas as pd\n",
    "import numpy as np\n",
    "\n",
    "# Array creation\n",
    "list1 = np.random.randint(1, 21, 4)\n",
    "list2 = np.random.randint(1, 21, 4)\n",
    "list3 = np.random.randint(1, 21, 4)\n",
    "\n",
    "labels = ['a', 'b', 'c']\n",
    "cols = ['W', 'X', 'Y', 'Z']\n",
    "\n",
    "# List of lists using NumPy array\n",
    "dataArray = np.array([list1, list2, list3])\n",
    "\n",
    "# Create dataFrame\n",
    "dataFrame = pd.DataFrame(data=dataArray, index=labels, columns=cols)\n",
    "\n",
    "# Display dataFrame\n",
    "dataFrame"
   ],
   "outputs": [],
   "execution_count": null
  },
  {
   "metadata": {},
   "cell_type": "code",
   "source": [
    "# a.\tAccess the 'X' column of the DataFrame, which produces a Pandas Series.\n",
    "# b.\tUse double brackets with ['X', 'Y'] to select these columns, producing a DataFrame.\n",
    "# c.\tAccess the 'Z' column of the DataFrame using dot notation, which produces a Pandas Series.\n",
    "# d.\tCreate a new column in the DataFrame, sum the 'X' and 'Y' columns, and name the new column 'Sum(X+Y)'\n",
    "\n",
    "# Access \"X\" column\n",
    "dataFrame['X']"
   ],
   "id": "f4a9015cf3f2c8f2",
   "outputs": [],
   "execution_count": null
  },
  {
   "metadata": {},
   "cell_type": "code",
   "source": [
    "# Access columns X and Y\n",
    "dataFrame[['X', 'Y']]"
   ],
   "id": "266600b4f6c8fccb",
   "outputs": [],
   "execution_count": null
  },
  {
   "metadata": {},
   "cell_type": "code",
   "source": [
    "# Access Z column using dot notation\n",
    "dataFrame.Z"
   ],
   "id": "e0e53f1c4744176d",
   "outputs": [],
   "execution_count": null
  },
  {
   "metadata": {},
   "cell_type": "code",
   "source": [
    "# Create new column adding X and Y columns\n",
    "# Access Z column using dot notation\n",
    "dataFrame.insert(4, 'Sum(X+Y)', dataFrame.X + dataFrame.Y, True)\n",
    "dataFrame"
   ],
   "id": "55a765fe9748ed0c",
   "outputs": [],
   "execution_count": null
  },
  {
   "metadata": {},
   "cell_type": "code",
   "source": [
    "# a.\tUse the remove function (method in the data frame) to remove the sum column. To make changes permanent, use inplace=True. Set axis=1 to specify column operations, such as removing the 'Sum(X+Y)' column.\n",
    "# b.\tDisplay the data frame after removing the sum column.\n",
    "\n",
    "dataFrame.drop('Sum(X+Y)', axis=1, inplace=True)\n",
    "dataFrame"
   ],
   "id": "aedfdc1f5e2805cf",
   "outputs": [],
   "execution_count": null
  },
  {
   "metadata": {},
   "cell_type": "code",
   "source": [
    "# a.\tCreate a new DataFrame newRow with a single row [1, 2, 3, 4] and columns ['W', 'X', 'Y', 'Z'], and index ['d'].\n",
    "# b.\tUse the concat function in Pandas to concatenate newRow to the existing dataFrame using pd.concat([dataFrame, newRow]).\n",
    "# c.\tDisplay the updated DataFrame.\n",
    "\n",
    "# Create and display new DataFrame\n",
    "newRow = pd.DataFrame(data={1: 'W', 2: 'X', 3: 'Y', 4: 'Z'}, index=['d'])\n",
    "newRow"
   ],
   "id": "e73eb3d181bfcab5",
   "outputs": [],
   "execution_count": null
  },
  {
   "metadata": {},
   "cell_type": "code",
   "source": [
    "# Concatenate the two DataFrames\n",
    "dataFrame = pd.concat([dataFrame, newRow])\n",
    "dataFrame"
   ],
   "id": "627b713ae7d4d70c",
   "outputs": [],
   "execution_count": null
  }
 ],
 "metadata": {
  "kernelspec": {
   "display_name": "Python 3",
   "language": "python",
   "name": "python3"
  },
  "language_info": {
   "codemirror_mode": {
    "name": "ipython",
    "version": 2
   },
   "file_extension": ".py",
   "mimetype": "text/x-python",
   "name": "python",
   "nbconvert_exporter": "python",
   "pygments_lexer": "ipython2",
   "version": "2.7.6"
  }
 },
 "nbformat": 4,
 "nbformat_minor": 5
}
