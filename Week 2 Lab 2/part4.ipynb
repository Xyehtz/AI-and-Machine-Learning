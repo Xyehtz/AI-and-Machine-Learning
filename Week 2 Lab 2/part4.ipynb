{
 "cells": [
  {
   "cell_type": "code",
   "id": "initial_id",
   "metadata": {
    "collapsed": true
   },
   "source": [
    "# a.\tWe are going to read in a data set for the Titanic passenger list.  Downloaded from: https://www.kaggle.com/datasets/yasserh/titanic-dataset?select=Titanic-Dataset.csv\n",
    "# b.\tImport NumPy and Pandas.\n",
    "# c.\tRead the Titanic dataset from 'Titanic-Dataset.csv' into a DataFrame named titanicDataFrame.\n",
    "# d.\tUse the head function (method in the dataframe object) to display the first 5 records as well as column names\n",
    "# e.\tUse the info function (method in the dataframe object) to display metadata information about columns.\n",
    "\n",
    "import pandas as pd\n",
    "import numpy as np\n",
    "\n",
    "# Read and display the first 5 records in the csv file\n",
    "titanicDf = pd.read_csv('data/Titanic-Dataset.csv')\n",
    "titanicDf.head(5)"
   ],
   "outputs": [],
   "execution_count": null
  },
  {
   "metadata": {},
   "cell_type": "code",
   "source": [
    "# 12.\tReview the dataset to identify and remove columns with excessive null data or minimal relevance, unknown value meanings.\n",
    "# 13.\tIn the box below, list the columns that are candidates for removal and provide a solid rationale (3 columns). Hint: age column should not be removed.\n",
    "\n",
    "\"\"\"\n",
    "In this case, the columns that should be deleted are Cabin, because of a great amount of null values, Parch as it doesn't have much relevance in the file, and Passenger ID which could be used in the case of database queries, but doesn't have a significant role in this case\n",
    "\"\"\"\n",
    "\n",
    "# Get information to see which columns contain excessive null data or are irrelevant\n",
    "titanicDf.info()"
   ],
   "id": "aa483d25a22b9eca",
   "outputs": [],
   "execution_count": null
  },
  {
   "metadata": {},
   "cell_type": "code",
   "source": [
    "# a.\tDelete the 3 columns as indicated using the drop method\n",
    "\n",
    "# Remove irrelevant or excessive null columns\n",
    "titanicDf.drop('Cabin', axis=1, inplace=True)\n",
    "titanicDf.drop('Parch', axis=1, inplace=True)\n",
    "titanicDf.drop('PassengerId', axis=1, inplace=True)\n",
    "titanicDf"
   ],
   "id": "2357a0d7f5e4e27d",
   "outputs": [],
   "execution_count": null
  },
  {
   "metadata": {},
   "cell_type": "code",
   "source": [
    "# b.\tDisplay the first 5 rows of the DataFrame using the head function\n",
    "\n",
    "titanicDf.head(5)"
   ],
   "id": "97a87b778f7a6c03",
   "outputs": [],
   "execution_count": null
  },
  {
   "metadata": {},
   "cell_type": "code",
   "source": [
    "# a.\tDisplay the resulting data set and paste the result in the following box\n",
    "\n",
    "# Create a list with the indexes where age is null\n",
    "l1 = titanicDf[titanicDf['Age'].isnull()].index\n",
    "l1"
   ],
   "id": "384cf3179c977f7e",
   "outputs": [],
   "execution_count": null
  },
  {
   "metadata": {},
   "cell_type": "code",
   "source": [
    "# a.\tUsing the index property to create a list of row indexes where Age is NaN.\n",
    "# b.\tUse the list of indexes to remove all rows in the data frame.\n",
    "# c.\tCheck the updated DataFrame information.\n",
    "\n",
    "# Use the l1 list to delete the null rows\n",
    "titanicDf.drop(l1, axis=0, inplace=True)\n",
    "titanicDf.info()"
   ],
   "id": "142c37d87a24bdf0",
   "outputs": [],
   "execution_count": null
  },
  {
   "metadata": {},
   "cell_type": "code",
   "source": [
    "# d.\tConvert the 'Sex' column to numerical values with male=0 and female=1 for easier analysis.\n",
    "# e.\tCheck the updated DataFrame information.\n",
    "\n",
    "# Convert male and female to numbers using the replace method\n",
    "titanicDf['Sex'] = titanicDf['Sex'].replace({'male': 0, 'female': 1})\n",
    "titanicDf"
   ],
   "id": "a55e07398e4a38b3",
   "outputs": [],
   "execution_count": null
  }
 ],
 "metadata": {
  "kernelspec": {
   "display_name": "Python 3",
   "language": "python",
   "name": "python3"
  },
  "language_info": {
   "codemirror_mode": {
    "name": "ipython",
    "version": 2
   },
   "file_extension": ".py",
   "mimetype": "text/x-python",
   "name": "python",
   "nbconvert_exporter": "python",
   "pygments_lexer": "ipython2",
   "version": "2.7.6"
  }
 },
 "nbformat": 4,
 "nbformat_minor": 5
}
