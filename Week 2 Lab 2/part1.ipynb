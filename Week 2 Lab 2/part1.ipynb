{
 "cells": [
  {
   "cell_type": "code",
   "id": "initial_id",
   "metadata": {
    "collapsed": true,
    "ExecuteTime": {
     "end_time": "2024-09-10T20:54:26.319201Z",
     "start_time": "2024-09-10T20:54:26.148003Z"
    }
   },
   "source": [
    "# a.\tImport the NumPy library\n",
    "# b.\tCreate a Python list with 1,2,3\n",
    "# c.\tCreate a NumPy array from the list\n",
    "\n",
    "import numpy as np # NumPy import\n",
    "from rich.jupyter import display\n",
    "\n",
    "python_list = [1, 2, 3]\n",
    "numpy_array = np.array(python_list)\n",
    "numpy_array"
   ],
   "outputs": [
    {
     "data": {
      "text/plain": [
       "array([1, 2, 3])"
      ]
     },
     "execution_count": 1,
     "metadata": {},
     "output_type": "execute_result"
    }
   ],
   "execution_count": 1
  },
  {
   "metadata": {
    "ExecuteTime": {
     "end_time": "2024-09-10T21:09:25.454379Z",
     "start_time": "2024-09-10T21:09:25.443107Z"
    }
   },
   "cell_type": "code",
   "source": [
    "# a.\tGenerate an array from 0-9\n",
    "# b.\tGenerate an array from 0-10 with a step of 2\n",
    "# c.\tGenerate array size 10 of random numbers from 0-1\n",
    "# d.\tGenerate array size 10 of random numbers from 0-10\n",
    "\n",
    "# Arrays creation\n",
    "numbers_zero_to_nine = np.arange(0, 10)\n",
    "numbers_step_2 = np.arange(0, 11, 2)\n",
    "numbers_random1 = np.random.rand(10)\n",
    "numbers_random2 = np.random.rand(10) * 10\n",
    "\n",
    "# Format display\n",
    "display(\n",
    "    f'numbers 0 - 9: {numbers_zero_to_nine}', f'numbers 0 - 10 with step 2: {numbers_step_2}', f'Random numbers 0 - 1: {numbers_random1}', f'Random numbers 0 - 10: {numbers_random2}'\n",
    ")"
   ],
   "id": "280ef29e17f264bb",
   "outputs": [
    {
     "data": {
      "text/plain": [
       "'numbers 0 - 9: [0 1 2 3 4 5 6 7 8 9]'"
      ]
     },
     "metadata": {},
     "output_type": "display_data"
    },
    {
     "data": {
      "text/plain": [
       "'numbers 0 - 10 with step 2: [ 0  2  4  6  8 10]'"
      ]
     },
     "metadata": {},
     "output_type": "display_data"
    },
    {
     "data": {
      "text/plain": [
       "'Random numbers 0 - 1: [0.28255508 0.81780856 0.73801654 0.26322944 0.23649496 0.96139197\\n 0.01768707 0.08540889 0.02119739 0.88599733]'"
      ]
     },
     "metadata": {},
     "output_type": "display_data"
    },
    {
     "data": {
      "text/plain": [
       "'Random numbers 0 - 10: [2.40743859 5.71599827 8.72357976 8.45146964 4.77300498 3.84980665\\n 9.85754722 9.846293   8.10352003 7.24400954]'"
      ]
     },
     "metadata": {},
     "output_type": "display_data"
    }
   ],
   "execution_count": 10
  },
  {
   "metadata": {
    "ExecuteTime": {
     "end_time": "2024-09-10T21:25:18.462969Z",
     "start_time": "2024-09-10T21:25:18.445479Z"
    }
   },
   "cell_type": "code",
   "source": [
    "# a.\tCreate an array of 10 random integers between 1 and 100.\n",
    "# b.\tWhat is the max value in the array?\n",
    "# c.\tWhat is the index of the max value?\n",
    "# d.\tWhat is the minimum value?\n",
    "# e.\tWhat is the index of the minimum value?\n",
    "# f.\tWhat is the value at index 3?\n",
    "# g.\tWhat are the values at index 2 through 4?\n",
    "\n",
    "# Create an array \n",
    "one_to_hundred = np.random.randint(0, 101, 10)\n",
    "\n",
    "# Format and display while getting maximum and minimum values along with indexes\n",
    "display(\n",
    "    f'Random numbers 0 - 100: {one_to_hundred}',\n",
    "    f'Max value in the array: {one_to_hundred.max()}',\n",
    "    f'Index of max value: {one_to_hundred.argmax()}',\n",
    "    f'Min value in the array: {one_to_hundred.min()}',\n",
    "    f'Index of min value: {one_to_hundred.argmin()}',\n",
    "    f'Value at index 3: {one_to_hundred[3]}',\n",
    "    f'Values from index 2 to 4: {one_to_hundred[2:4]}',\n",
    ")"
   ],
   "id": "f37ac47a84e491c5",
   "outputs": [
    {
     "data": {
      "text/plain": [
       "'Random numbers 0 - 100: [12 47 80 93 99 45  1 92 20 52]'"
      ]
     },
     "metadata": {},
     "output_type": "display_data"
    },
    {
     "data": {
      "text/plain": [
       "'Max value in the array: 99'"
      ]
     },
     "metadata": {},
     "output_type": "display_data"
    },
    {
     "data": {
      "text/plain": [
       "'Index of max value: 4'"
      ]
     },
     "metadata": {},
     "output_type": "display_data"
    },
    {
     "data": {
      "text/plain": [
       "'Min value in the array: 1'"
      ]
     },
     "metadata": {},
     "output_type": "display_data"
    },
    {
     "data": {
      "text/plain": [
       "'Index of min value: 6'"
      ]
     },
     "metadata": {},
     "output_type": "display_data"
    },
    {
     "data": {
      "text/plain": [
       "'Value at index 3: 93'"
      ]
     },
     "metadata": {},
     "output_type": "display_data"
    },
    {
     "data": {
      "text/plain": [
       "'Values from index 2 to 4: [80, 93]'"
      ]
     },
     "metadata": {},
     "output_type": "display_data"
    }
   ],
   "execution_count": 15
  }
 ],
 "metadata": {
  "kernelspec": {
   "display_name": "Python 3",
   "language": "python",
   "name": "python3"
  },
  "language_info": {
   "codemirror_mode": {
    "name": "ipython",
    "version": 2
   },
   "file_extension": ".py",
   "mimetype": "text/x-python",
   "name": "python",
   "nbconvert_exporter": "python",
   "pygments_lexer": "ipython2",
   "version": "2.7.6"
  }
 },
 "nbformat": 4,
 "nbformat_minor": 5
}
