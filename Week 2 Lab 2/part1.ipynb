{
 "cells": [
  {
   "cell_type": "code",
   "id": "initial_id",
   "metadata": {
    "collapsed": true
   },
   "source": [
    "# a.\tImport the NumPy library\n",
    "# b.\tCreate a Python list with 1,2,3\n",
    "# c.\tCreate a NumPy array from the list\n",
    "\n",
    "import numpy as np # NumPy import\n",
    "from rich.jupyter import display\n",
    "\n",
    "python_list = [1, 2, 3]\n",
    "numpy_array = np.array(python_list)\n",
    "numpy_array"
   ],
   "outputs": [],
   "execution_count": null
  },
  {
   "metadata": {},
   "cell_type": "code",
   "source": [
    "# a.\tGenerate an array from 0-9\n",
    "# b.\tGenerate an array from 0-10 with a step of 2\n",
    "# c.\tGenerate array size 10 of random numbers from 0-1\n",
    "# d.\tGenerate array size 10 of random numbers from 0-10\n",
    "\n",
    "# Arrays creation\n",
    "numbers_zero_to_nine = np.arange(0, 10)\n",
    "numbers_step_2 = np.arange(0, 11, 2)\n",
    "numbers_random1 = np.random.rand(10)\n",
    "numbers_random2 = np.random.rand(10) * 10\n",
    "\n",
    "# Format display\n",
    "display(\n",
    "    f'numbers 0 - 9: {numbers_zero_to_nine}', f'numbers 0 - 10 with step 2: {numbers_step_2}', f'Random numbers 0 - 1: {numbers_random1}', f'Random numbers 0 - 10: {numbers_random2}'\n",
    ")"
   ],
   "id": "280ef29e17f264bb",
   "outputs": [],
   "execution_count": null
  },
  {
   "metadata": {},
   "cell_type": "code",
   "source": [
    "# a.\tCreate an array of 10 random integers between 1 and 100.\n",
    "# b.\tWhat is the max value in the array?\n",
    "# c.\tWhat is the index of the max value?\n",
    "# d.\tWhat is the minimum value?\n",
    "# e.\tWhat is the index of the minimum value?\n",
    "# f.\tWhat is the value at index 3?\n",
    "# g.\tWhat are the values at index 2 through 4?\n",
    "\n",
    "# Create an array \n",
    "one_to_hundred = np.random.randint(0, 101, 10)\n",
    "\n",
    "# Format and display while getting maximum and minimum values along with indexes\n",
    "display(\n",
    "    f'Random numbers 0 - 100: {one_to_hundred}',\n",
    "    f'Max value in the array: {one_to_hundred.max()}',\n",
    "    f'Index of max value: {one_to_hundred.argmax()}',\n",
    "    f'Min value in the array: {one_to_hundred.min()}',\n",
    "    f'Index of min value: {one_to_hundred.argmin()}',\n",
    "    f'Value at index 3: {one_to_hundred[3]}',\n",
    "    f'Values from index 2 to 4: {one_to_hundred[2:4]}',\n",
    ")"
   ],
   "id": "f37ac47a84e491c5",
   "outputs": [],
   "execution_count": null
  }
 ],
 "metadata": {
  "kernelspec": {
   "display_name": "Python 3",
   "language": "python",
   "name": "python3"
  },
  "language_info": {
   "codemirror_mode": {
    "name": "ipython",
    "version": 2
   },
   "file_extension": ".py",
   "mimetype": "text/x-python",
   "name": "python",
   "nbconvert_exporter": "python",
   "pygments_lexer": "ipython2",
   "version": "2.7.6"
  }
 },
 "nbformat": 4,
 "nbformat_minor": 5
}
