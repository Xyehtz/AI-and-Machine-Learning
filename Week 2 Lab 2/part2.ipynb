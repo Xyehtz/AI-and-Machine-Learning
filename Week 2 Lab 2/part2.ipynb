{
 "cells": [
  {
   "cell_type": "code",
   "id": "initial_id",
   "metadata": {
    "collapsed": true,
    "ExecuteTime": {
     "end_time": "2024-09-10T21:46:33.943890Z",
     "start_time": "2024-09-10T21:46:33.932687Z"
    }
   },
   "source": [
    "# a.\tImport the pandas library (numpy is also needed)\n",
    "# b.\tCreate a list named labels containing 'a', 'b', 'c' for a label column.\n",
    "# c.\tCreate a list named values1 with the values 7, 8, 9.\n",
    "# d.\tCreate a dictionary with keys 'a', 'b', 'c', 'd' and corresponding values 10, 11, 12, 13.\n",
    "\n",
    "# Imports\n",
    "import numpy as np\n",
    "import pandas as pd\n",
    "from intake.source.cache import display\n",
    "\n",
    "# Creation of variables\n",
    "labels = ['a', 'b', 'c']\n",
    "values1 = [7, 8, 9]\n",
    "my_dict = {'a': 10, 'b': 11, 'c': 12, 'd': 13}"
   ],
   "outputs": [],
   "execution_count": 6
  },
  {
   "metadata": {
    "ExecuteTime": {
     "end_time": "2024-09-10T22:02:59.600632Z",
     "start_time": "2024-09-10T22:02:59.591231Z"
    }
   },
   "cell_type": "code",
   "source": [
    "# a.\tCreate set1 as a Pandas Series using values1 and labels for data and index.\n",
    "# b.\tCreate set2 as a Pandas Series from the dictionary.\n",
    "# c.\tAdd set1 and set2 to create set3.\n",
    "# d.\tDisplay set3.\n",
    "# e.\tGet the value by the key ‘a’\n",
    "\n",
    "# Create Pandas series for set1, 2, and 3\n",
    "set1 = pd.Series(data=values1, index=labels)\n",
    "set2 = pd.Series(my_dict)\n",
    "set3 = set1 + set2\n",
    "\n",
    "# Display set1\n",
    "set1"
   ],
   "id": "7034c6f142b80633",
   "outputs": [
    {
     "data": {
      "text/plain": [
       "a    7\n",
       "b    8\n",
       "c    9\n",
       "dtype: int64"
      ]
     },
     "execution_count": 16,
     "metadata": {},
     "output_type": "execute_result"
    }
   ],
   "execution_count": 16
  },
  {
   "metadata": {
    "ExecuteTime": {
     "end_time": "2024-09-10T22:03:02.510728Z",
     "start_time": "2024-09-10T22:03:02.504731Z"
    }
   },
   "cell_type": "code",
   "source": [
    "# Display set 2\n",
    "set2"
   ],
   "id": "1f33de869c70a0f5",
   "outputs": [
    {
     "data": {
      "text/plain": [
       "a    10\n",
       "b    11\n",
       "c    12\n",
       "d    13\n",
       "dtype: int64"
      ]
     },
     "execution_count": 17,
     "metadata": {},
     "output_type": "execute_result"
    }
   ],
   "execution_count": 17
  },
  {
   "metadata": {
    "ExecuteTime": {
     "end_time": "2024-09-10T22:02:47.409272Z",
     "start_time": "2024-09-10T22:02:47.398167Z"
    }
   },
   "cell_type": "code",
   "source": [
    "# Display set 3\n",
    "set3"
   ],
   "id": "42f5fbc5aed2bb45",
   "outputs": [
    {
     "data": {
      "text/plain": [
       "a    17.0\n",
       "b    19.0\n",
       "c    21.0\n",
       "d     NaN\n",
       "dtype: float64"
      ]
     },
     "execution_count": 14,
     "metadata": {},
     "output_type": "execute_result"
    }
   ],
   "execution_count": 14
  },
  {
   "metadata": {
    "ExecuteTime": {
     "end_time": "2024-09-10T22:03:08.082818Z",
     "start_time": "2024-09-10T22:03:08.076632Z"
    }
   },
   "cell_type": "code",
   "source": [
    "# Access value of key \"a\" in set3\n",
    "set3['a']"
   ],
   "id": "4fc7d6b4032b8fdb",
   "outputs": [
    {
     "data": {
      "text/plain": [
       "17.0"
      ]
     },
     "execution_count": 18,
     "metadata": {},
     "output_type": "execute_result"
    }
   ],
   "execution_count": 18
  }
 ],
 "metadata": {
  "kernelspec": {
   "display_name": "Python 3",
   "language": "python",
   "name": "python3"
  },
  "language_info": {
   "codemirror_mode": {
    "name": "ipython",
    "version": 2
   },
   "file_extension": ".py",
   "mimetype": "text/x-python",
   "name": "python",
   "nbconvert_exporter": "python",
   "pygments_lexer": "ipython2",
   "version": "2.7.6"
  }
 },
 "nbformat": 4,
 "nbformat_minor": 5
}
