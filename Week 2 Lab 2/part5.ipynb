{
 "cells": [
  {
   "metadata": {},
   "cell_type": "code",
   "source": [
    "# a)\tDisplay the first 5 records of the dataframe\n",
    "\n",
    "import pandas as pd\n",
    "import numpy as np\n",
    "\n",
    "dsSalaries = pd.read_csv('data/ds_salaries.csv')\n",
    "dsSalaries.head(5)"
   ],
   "id": "9e5f3a324dec66cb",
   "outputs": [],
   "execution_count": null
  },
  {
   "metadata": {},
   "cell_type": "code",
   "source": [
    "# b)\tWhat is the number of unique values under each category?\n",
    "\n",
    "dsSalaries.info()"
   ],
   "id": "94bc866c3f865fdd",
   "outputs": [],
   "execution_count": null
  },
  {
   "metadata": {},
   "cell_type": "code",
   "source": [
    "# c)\tHow many of these employees have residence in Canada?\n",
    "\n",
    "fltr = dsSalaries['employee_residence'] == 'CA'\n",
    "dsSalaries['employee_residence'].where(fltr).value_counts()"
   ],
   "id": "a1b5125eac304f9d",
   "outputs": [],
   "execution_count": null
  },
  {
   "metadata": {},
   "cell_type": "code",
   "source": [
    "# d)\tCreate a dataframe of just Canadian residence called canDF\n",
    "\n",
    "canDF = dsSalaries[dsSalaries['employee_residence'] == 'CA']\n",
    "canDF"
   ],
   "id": "c0e7f6c3658e02fa",
   "outputs": [],
   "execution_count": null
  },
  {
   "metadata": {},
   "cell_type": "code",
   "source": [
    "# e)\tWhat is the min, max, and average salary for your canDF?\n",
    "\n",
    "# min\n",
    "canDF['salary_in_usd'].min()"
   ],
   "id": "d8218c42cc7280eb",
   "outputs": [],
   "execution_count": null
  },
  {
   "metadata": {},
   "cell_type": "code",
   "source": "canDF['salary_in_usd'].max() # max",
   "id": "52a6f62cb8842088",
   "outputs": [],
   "execution_count": null
  },
  {
   "metadata": {},
   "cell_type": "code",
   "source": "canDF['salary_in_usd'].mean() # average",
   "id": "6ea74fb8745aefd9",
   "outputs": [],
   "execution_count": null
  },
  {
   "metadata": {},
   "cell_type": "code",
   "source": [
    "# f)\tDisplay the record of the highest paid employee in canDF\n",
    "\n",
    "canDF[canDF['salary_in_usd'] == canDF['salary_in_usd'].max()]"
   ],
   "id": "55532f83f22ad4c7",
   "outputs": [],
   "execution_count": null
  }
 ],
 "metadata": {
  "kernelspec": {
   "display_name": "Python 3",
   "language": "python",
   "name": "python3"
  },
  "language_info": {
   "codemirror_mode": {
    "name": "ipython",
    "version": 2
   },
   "file_extension": ".py",
   "mimetype": "text/x-python",
   "name": "python",
   "nbconvert_exporter": "python",
   "pygments_lexer": "ipython2",
   "version": "2.7.6"
  }
 },
 "nbformat": 4,
 "nbformat_minor": 5
}
