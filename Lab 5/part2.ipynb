{
 "cells": [
  {
   "metadata": {},
   "cell_type": "code",
   "source": [
    "import seaborn as sns\n",
    "import pandas as pd\n",
    "import matplotlib.pyplot as plt\n",
    "from sklearn.linear_model import LogisticRegression\n",
    "from sklearn.model_selection import train_test_split\n",
    "from sklearn.metrics import classification_report\n",
    "from sklearn.tree import DecisionTreeClassifier, plot_tree\n",
    "from sklearn.ensemble import RandomForestClassifier\n",
    "\n",
    "titanic_ds = sns.load_dataset('titanic')\n",
    "colors = ['red' if x==0 else 'blue' for x in [0, 1]]\n",
    "\n",
    "titanic_ds.drop(labels=['embark_town', 'embarked', 'deck', 'class', 'alive'], axis=1, inplace=True)\n",
    "\n",
    "titanic_ds['sex'] = titanic_ds['sex'].map({'male': 0, 'female': 1})\n",
    "titanic_ds['who'] = titanic_ds['who'].map({'man': 0, 'woman': 1, 'child': 2}) \n",
    "\n",
    "titanic_ds.dropna(inplace=True)\n",
    "\n",
    "X, y = titanic_ds.drop('survived', axis=1), titanic_ds['survived']\n",
    "X_train, X_test, y_train, y_test = train_test_split(X, y, test_size=.3, random_state=60)\n",
    "\n",
    "X_train"
   ],
   "id": "90a227b7ac867ef1",
   "outputs": [],
   "execution_count": null
  },
  {
   "metadata": {},
   "cell_type": "code",
   "source": [
    "model = LogisticRegression(max_iter=1000)\n",
    "model.fit(X_train, y_train)\n",
    "accuracy = model.score(X_test, y_test)\n",
    "accuracy"
   ],
   "id": "a1ff8cf034d2a592",
   "outputs": [],
   "execution_count": null
  },
  {
   "metadata": {},
   "cell_type": "code",
   "source": [
    "dtree = DecisionTreeClassifier()\n",
    "dtree.fit(X_train, y_train)\n",
    "\n",
    "predictions = dtree.predict(X_test)\n",
    "\n",
    "print(classification_report(y_test, predictions))"
   ],
   "id": "8ba804d15b35c02",
   "outputs": [],
   "execution_count": null
  },
  {
   "metadata": {},
   "cell_type": "code",
   "source": [
    "titanic_ds.head()\n",
    "fn = ['survived', 'pclass', 'sex', 'age', 'sibsp', 'parch', 'fare', 'who', 'adult_male', 'alone']\n",
    "plt.figure(figsize=(80, 40))\n",
    "cn = ['Died', 'Survived']\n",
    "\n",
    "plot_tree(dtree, filled=True, feature_names=fn, class_names=cn)"
   ],
   "id": "f8e33748db04e2e5",
   "outputs": [],
   "execution_count": null
  },
  {
   "metadata": {},
   "cell_type": "code",
   "source": [
    "avgMale = {\n",
    "    'pclass': [0],\n",
    "    'sex': [0],\n",
    "    'age': [20],\n",
    "    'sibsp': [0],\n",
    "    'parch': [0],\n",
    "    'fare': [25],\n",
    "    'who': [0],\n",
    "    'adult_male': [True],\n",
    "    'alone': [True]\n",
    "}\n",
    "\n",
    "avgFemale = {\n",
    "    'pclass': [0],\n",
    "    'sex': [1],\n",
    "    'age': [20],\n",
    "    'sibsp': [0],\n",
    "    'parch': [0],\n",
    "    'fare': [25],\n",
    "    'who': [1],\n",
    "    'adult_male': [False],\n",
    "    'alone': [True]\n",
    "}\n",
    "\n",
    "mySelfTest = {\n",
    "    'pclass': [0],\n",
    "    'sex': [0],\n",
    "    'age': [19],\n",
    "    'sibsp': [0],\n",
    "    'parch': [0],\n",
    "    'fare': [25],\n",
    "    'who': [0],\n",
    "    'adult_male': [True],\n",
    "    'alone': [True]\n",
    "}\n",
    "\n",
    "avgMale = pd.DataFrame(avgMale)\n",
    "avgFemale = pd.DataFrame(avgFemale)\n",
    "mySelfTest = pd.DataFrame(mySelfTest)\n",
    "print(f'Do you survive the Titanic?\\nSubject - Talon (Survived = 0, Died = 1): {dtree.predict(avgMale)}\\nSubject - Mikhaela (Survived = 0, Died = 1): {dtree.predict(avgFemale)}\\nSubject - Alejandro (Survived = 0, Died = 1): {dtree.predict(mySelfTest)}')"
   ],
   "id": "e3b67871609b72cc",
   "outputs": [],
   "execution_count": null
  },
  {
   "metadata": {},
   "cell_type": "code",
   "source": [
    "X_train, X_test, y_train, y_test = train_test_split(X, y, test_size=.3, random_state=60)\n",
    "forest = RandomForestClassifier()\n",
    "forest.fit(X_train, y_train)\n",
    "forest.predict(X_test)\n",
    "forest.score(X_test, y_test)"
   ],
   "id": "831e7b2498648bf9",
   "outputs": [],
   "execution_count": null
  },
  {
   "metadata": {},
   "cell_type": "code",
   "source": "print(forest.predict(avgMale), forest.predict(avgFemale))",
   "id": "a3963556305c31ac",
   "outputs": [],
   "execution_count": null
  },
  {
   "metadata": {},
   "cell_type": "code",
   "source": [
    "fn = ['survived', 'pclass', 'sex', 'age', 'sibsp', 'parch', 'fare', 'who', 'adult_male', 'alone']\n",
    "plt.figure(figsize=(80, 40))\n",
    "cn = ['Died', 'Survived']\n",
    "\n",
    "plot_tree(forest.estimators_[0], filled=True, feature_names=fn, class_names=cn)"
   ],
   "id": "742633d860d2a591",
   "outputs": [],
   "execution_count": null
  }
 ],
 "metadata": {
  "kernelspec": {
   "display_name": "Python 3",
   "language": "python",
   "name": "python3"
  },
  "language_info": {
   "codemirror_mode": {
    "name": "ipython",
    "version": 2
   },
   "file_extension": ".py",
   "mimetype": "text/x-python",
   "name": "python",
   "nbconvert_exporter": "python",
   "pygments_lexer": "ipython2",
   "version": "2.7.6"
  }
 },
 "nbformat": 4,
 "nbformat_minor": 5
}
