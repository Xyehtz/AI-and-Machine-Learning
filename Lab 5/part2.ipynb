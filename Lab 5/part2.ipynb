{
 "cells": [
  {
   "metadata": {},
   "cell_type": "code",
   "source": [
    "import seaborn as sns\n",
    "import pandas as pd\n",
    "import matplotlib.pyplot as plt\n",
    "from sklearn.linear_model import LogisticRegression\n",
    "from sklearn.model_selection import train_test_split\n",
    "from sklearn.metrics import classification_report\n",
    "from sklearn.tree import DecisionTreeClassifier, plot_tree\n",
    "from sklearn.ensemble import RandomForestClassifier\n",
    "\n",
    "titanic_ds = sns.load_dataset('titanic')\n",
    "colors = ['red' if x==0 else 'blue' for x in [0, 1]]\n",
    "\n",
    "titanic_ds.drop(labels=['embark_town', 'embarked', 'deck', 'class', 'alive'], axis=1, inplace=True)\n",
    "\n",
    "titanic_ds['sex'] = titanic_ds['sex'].map({'male': 0, 'female': 1})\n",
    "titanic_ds['who'] = titanic_ds['who'].map({'man': 0, 'woman': 1, 'child': 2}) \n",
    "\n",
    "titanic_ds.dropna(inplace=True)\n",
    "\n",
    "titanic_ds"
   ],
   "id": "90a227b7ac867ef1",
   "outputs": [],
   "execution_count": null
  },
  {
   "metadata": {},
   "cell_type": "code",
   "source": [
    "X, y = titanic_ds.drop('survived', axis=1), titanic_ds['survived']\n",
    "X_train, X_test, y_train, y_test = train_test_split(X, y, test_size=.3, random_state=60)\n",
    "X_train"
   ],
   "id": "a056f765a87944ff",
   "outputs": [],
   "execution_count": null
  },
  {
   "metadata": {},
   "cell_type": "code",
   "source": [
    "model = LogisticRegression(max_iter=1000)\n",
    "model.fit(X_train, y_train)\n",
    "accuracy = model.score(X_test, y_test)\n",
    "accuracy"
   ],
   "id": "a1ff8cf034d2a592",
   "outputs": [],
   "execution_count": null
  },
  {
   "metadata": {},
   "cell_type": "code",
   "source": [
    "dtree = DecisionTreeClassifier()\n",
    "dtree.fit(X_train, y_train)\n",
    "\n",
    "predictions = dtree.predict(X_test)\n",
    "print(classification_report(y_test, predictions))"
   ],
   "id": "8ba804d15b35c02",
   "outputs": [],
   "execution_count": null
  },
  {
   "metadata": {},
   "cell_type": "markdown",
   "source": "## The overall accuracy obtained with the Decision Tree method is good, in this case we obtain 0.8 in the report. Even though this result is good, it is lower (by 0.04) than the result we obtained in the Logistic Regression model",
   "id": "4469977344cdd453"
  },
  {
   "metadata": {},
   "cell_type": "code",
   "source": "titanic_ds.head()",
   "id": "68df8b8621e97b81",
   "outputs": [],
   "execution_count": null
  },
  {
   "metadata": {},
   "cell_type": "code",
   "source": [
    "fn = ['survived', 'pclass', 'sex', 'age', 'sibsp', 'parch', 'fare', 'who', 'adult_male', 'alone']\n",
    "plt.figure(figsize=(80, 40))\n",
    "cn = ['Died', 'Survived']\n",
    "\n",
    "plot_tree(dtree, filled=True, feature_names=fn, class_names=cn)"
   ],
   "id": "f8e33748db04e2e5",
   "outputs": [],
   "execution_count": null
  },
  {
   "metadata": {},
   "cell_type": "code",
   "source": [
    "avgMale = {\n",
    "    'pclass': [0],\n",
    "    'sex': [0],\n",
    "    'age': [20],\n",
    "    'sibsp': [0],\n",
    "    'parch': [0],\n",
    "    'fare': [25],\n",
    "    'who': [0],\n",
    "    'adult_male': [True],\n",
    "    'alone': [True]\n",
    "}\n",
    "\n",
    "avgFemale = {\n",
    "    'pclass': [0],\n",
    "    'sex': [1],\n",
    "    'age': [20],\n",
    "    'sibsp': [0],\n",
    "    'parch': [0],\n",
    "    'fare': [25],\n",
    "    'who': [1],\n",
    "    'adult_male': [False],\n",
    "    'alone': [True]\n",
    "}\n",
    "\n",
    "mySelfTest = {\n",
    "    'pclass': [0],\n",
    "    'sex': [0],\n",
    "    'age': [19],\n",
    "    'sibsp': [0],\n",
    "    'parch': [0],\n",
    "    'fare': [25],\n",
    "    'who': [0],\n",
    "    'adult_male': [True],\n",
    "    'alone': [True]\n",
    "}\n",
    "\n",
    "avgMale = pd.DataFrame(avgMale)\n",
    "avgFemale = pd.DataFrame(avgFemale)\n",
    "mySelfTest = pd.DataFrame(mySelfTest)\n",
    "print(f'Do you survive the Titanic?\\nSubject - Talon (Survived = 0, Died = 1): {dtree.predict(avgMale)}\\nSubject - Mikhaela (Survived = 0, Died = 1): {dtree.predict(avgFemale)}\\nSubject - Alejandro (Survived = 0, Died = 1): {dtree.predict(mySelfTest)}')"
   ],
   "id": "e3b67871609b72cc",
   "outputs": [],
   "execution_count": null
  },
  {
   "metadata": {},
   "cell_type": "markdown",
   "source": "## This example shows how adult males who were alone in the Titanic had a higher chance of survival under the same conditions as an adult woman who was also alone, this shows that alone women had a lower chance of survival than men, this changes when women were accompanied by someone else",
   "id": "318e8736b2fa054a"
  },
  {
   "metadata": {},
   "cell_type": "code",
   "source": [
    "X_train, X_test, y_train, y_test = train_test_split(X, y, test_size=.1, random_state=60)\n",
    "forest = RandomForestClassifier()\n",
    "forest.fit(X_train, y_train)\n",
    "forest.predict(X_test)\n",
    "forest.score(X_test, y_test)"
   ],
   "id": "831e7b2498648bf9",
   "outputs": [],
   "execution_count": null
  },
  {
   "metadata": {},
   "cell_type": "markdown",
   "source": "## The Random Forest Classifier seems to obtain the best result in the score test, this could be attributed to the nature of the random forest, where the results are aggregated and each tree votes in order to give an output, we need to also keep in mind the fact that the test size is smaller leaving a smaller chance of error ",
   "id": "54dd9ab106598d10"
  },
  {
   "metadata": {},
   "cell_type": "code",
   "source": [
    "fn = ['survived', 'pclass', 'sex', 'age', 'sibsp', 'parch', 'fare', 'who', 'adult_male', 'alone']\n",
    "cn = ['Died', 'Survived']\n",
    "\n",
    "plt.figure(figsize=(80, 40))\n",
    "plot_tree(forest.estimators_[0], filled=True, feature_names=fn, class_names=cn)"
   ],
   "id": "742633d860d2a591",
   "outputs": [],
   "execution_count": null
  },
  {
   "metadata": {},
   "cell_type": "code",
   "source": "print(forest.predict(avgMale), forest.predict(avgFemale))",
   "id": "490aab1d7a6accaa",
   "outputs": [],
   "execution_count": null
  },
  {
   "metadata": {},
   "cell_type": "markdown",
   "source": "## Here, we obtain the same results as before, where the adult (alone) male has a better chance of survival than the adult (alone) female",
   "id": "b8e713490b1e845f"
  }
 ],
 "metadata": {
  "kernelspec": {
   "display_name": "Python 3",
   "language": "python",
   "name": "python3"
  },
  "language_info": {
   "codemirror_mode": {
    "name": "ipython",
    "version": 2
   },
   "file_extension": ".py",
   "mimetype": "text/x-python",
   "name": "python",
   "nbconvert_exporter": "python",
   "pygments_lexer": "ipython2",
   "version": "2.7.6"
  }
 },
 "nbformat": 4,
 "nbformat_minor": 5
}
