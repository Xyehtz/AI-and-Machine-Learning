{
 "cells": [
  {
   "metadata": {},
   "cell_type": "code",
   "source": [
    "import seaborn as sns\n",
    "import pandas as pd\n",
    "\n",
    "titanic_ds = sns.load_dataset('titanic')\n",
    "colors = ['red' if x==0 else 'blue' for x in [0, 1]]\n",
    "\n",
    "titanic_ds.drop(labels=['embark_town', 'embarked', 'deck', 'class', 'alive'], axis=1, inplace=True)\n",
    "\n",
    "titanic_ds.replace('male', 0, inplace=True)\n",
    "titanic_ds.replace('female', 1, inplace=True)\n",
    "titanic_ds.replace('man', 0, inplace=True)\n",
    "titanic_ds.replace('woman', 1, inplace=True)\n",
    "titanic_ds.replace('child', 2, inplace=True)\n",
    "\n",
    "titanic_ds.dropna(axis=0, inplace=True)\n",
    "\n",
    "titanic_ds"
   ],
   "id": "fbc121e30a2defb3",
   "outputs": [],
   "execution_count": null
  },
  {
   "metadata": {},
   "cell_type": "code",
   "source": [
    "bp = sns.barplot(x='sex', y='survived', data=titanic_ds, palette=colors)\n",
    "for g in bp.patches:\n",
    "    bp.annotate(format(g.get_height(), '.3f'), (g.get_x() + g.get_width() / 2., g.get_height() + .05))"
   ],
   "id": "61eda555db89f00e",
   "outputs": [],
   "execution_count": null
  },
  {
   "metadata": {},
   "cell_type": "code",
   "source": [
    "titanic_male = titanic_ds[titanic_ds['sex'] == 0]\n",
    "sns.barplot(x='age', y='survived', data=titanic_male, palette=colors)"
   ],
   "id": "df31868322c881fa",
   "outputs": [],
   "execution_count": null
  },
  {
   "metadata": {},
   "cell_type": "code",
   "source": [
    "age_bins = [0, 10, 20, 30, 40, 50, 60, 100]\n",
    "titanic_male['AgeGroup'] = pd.cut(titanic_male['age'], bins=age_bins, labels=['0-10', '10-20', '20-30', '30-40', '40-50', '50-60', '60+'])\n",
    "\n",
    "bp = sns.barplot(data=titanic_male, x='AgeGroup', y='survived', palette=colors)\n",
    "for g in bp.patches:\n",
    "    bp.annotate(format(g.get_height(), '.3f'), (g.get_x() + g.get_width() / 2., g.get_height() + .05))"
   ],
   "id": "8152087ebe1821f5",
   "outputs": [],
   "execution_count": null
  },
  {
   "metadata": {
    "ExecuteTime": {
     "end_time": "2024-10-01T13:10:22.082334Z",
     "start_time": "2024-10-01T13:10:21.934815Z"
    }
   },
   "cell_type": "code",
   "source": [
    "age_bins = [0, 20, 100]\n",
    "titanic_male['AgeGroup'] = pd.cut(titanic_male['age'], bins=age_bins, labels=['0=20', '20+'])\n",
    "\n",
    "bp = sns.barplot(data=titanic_male, x='AgeGroup', y='survived', palette=colors)\n",
    "for g in bp.patches:\n",
    "    bp.annotate(format(g.get_height(), '.3f'), (g.get_x() + g.get_width() / 2., g.get_height() + .05))"
   ],
   "id": "eaa374db8c994754",
   "outputs": [
    {
     "name": "stderr",
     "output_type": "stream",
     "text": [
      "/tmp/ipykernel_13083/1662686325.py:2: SettingWithCopyWarning: \n",
      "A value is trying to be set on a copy of a slice from a DataFrame.\n",
      "Try using .loc[row_indexer,col_indexer] = value instead\n",
      "\n",
      "See the caveats in the documentation: https://pandas.pydata.org/pandas-docs/stable/user_guide/indexing.html#returning-a-view-versus-a-copy\n",
      "  titanic_male['AgeGroup'] = pd.cut(titanic_male['age'], bins=age_bins, labels=['0=20', '20+'])\n",
      "/tmp/ipykernel_13083/1662686325.py:4: FutureWarning: \n",
      "\n",
      "Passing `palette` without assigning `hue` is deprecated and will be removed in v0.14.0. Assign the `x` variable to `hue` and set `legend=False` for the same effect.\n",
      "\n",
      "  bp = sns.barplot(data=titanic_male, x='AgeGroup', y='survived', palette=colors)\n"
     ]
    },
    {
     "data": {
      "text/plain": [
       "<Figure size 640x480 with 1 Axes>"
      ],
      "image/png": "[encoded data removed]"
     },
     "metadata": {},
     "output_type": "display_data"
    }
   ],
   "execution_count": 20
  }
 ],
 "metadata": {
  "kernelspec": {
   "display_name": "Python 3",
   "language": "python",
   "name": "python3"
  },
  "language_info": {
   "codemirror_mode": {
    "name": "ipython",
    "version": 2
   },
   "file_extension": ".py",
   "mimetype": "text/x-python",
   "name": "python",
   "nbconvert_exporter": "python",
   "pygments_lexer": "ipython2",
   "version": "2.7.6"
  }
 },
 "nbformat": 4,
 "nbformat_minor": 5
}
