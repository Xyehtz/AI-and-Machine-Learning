{
 "cells": [
  {
   "metadata": {},
   "cell_type": "code",
   "source": [
    "import seaborn as sns\n",
    "import pandas as pd\n",
    "\n",
    "titanic_ds = sns.load_dataset('titanic')\n",
    "colors = ['red' if x==0 else 'blue' for x in [0, 1]]\n",
    "\n",
    "titanic_ds.drop(labels=['embark_town', 'embarked', 'deck', 'class', 'alive'], axis=1, inplace=True)\n",
    "\n",
    "titanic_ds.replace('male', 0, inplace=True)\n",
    "titanic_ds.replace('female', 1, inplace=True)\n",
    "titanic_ds.replace('man', 0, inplace=True)\n",
    "titanic_ds.replace('woman', 1, inplace=True)\n",
    "titanic_ds.replace('child', 2, inplace=True)\n",
    "\n",
    "titanic_ds.dropna(axis=0, inplace=True)\n",
    "\n",
    "titanic_ds.head()"
   ],
   "id": "fbc121e30a2defb3",
   "outputs": [],
   "execution_count": null
  },
  {
   "metadata": {},
   "cell_type": "code",
   "source": [
    "bp = sns.barplot(x='sex', y='survived', data=titanic_ds, palette=colors)\n",
    "for g in bp.patches:\n",
    "    bp.annotate(format(g.get_height(), '.3f'), (g.get_x() + g.get_width() / 2., g.get_height() + .05))"
   ],
   "id": "61eda555db89f00e",
   "outputs": [],
   "execution_count": null
  },
  {
   "metadata": {},
   "cell_type": "markdown",
   "source": "## This is a great example, now with annotations that show the exact probability of surviving in the Titanic disaster for men and women, showing the great difference in the survival rates (more than 0.5). This, as said in previous labs can be due to the fact of men helping women and children get to safety",
   "id": "3daab45ebc59e669"
  },
  {
   "metadata": {},
   "cell_type": "code",
   "source": [
    "titanic_male = titanic_ds[titanic_ds['sex'] == 0]\n",
    "age_bins = [0, 10, 20, 30, 40, 50, 60, 100]\n",
    "titanic_male['AgeGroup'] = pd.cut(titanic_male['age'], bins=age_bins, labels=['0-10', '10-20', '20-30', '30-40', '40-50', '50-60', '60+'])\n",
    "\n",
    "bp = sns.barplot(data=titanic_male, x='AgeGroup', y='survived', palette=colors)\n",
    "for g in bp.patches:\n",
    "    bp.annotate(format(g.get_height(), '.3f'), (g.get_x() + g.get_width() / 2., g.get_height() + .05))"
   ],
   "id": "8152087ebe1821f5",
   "outputs": [],
   "execution_count": null
  },
  {
   "metadata": {},
   "cell_type": "markdown",
   "source": "## In this example we can see the great difference in the survival rate of men depending on the age, again, we see how children and kids are the group with the highest survival rate, the only groups after this are the 30 - 40 and the 40 - 50 groups, that, even though they are second and third respectively are still far away from the survival rate of kids. Overall we can see that men did not have a high survival rate, having kids as the group with most survival rates, rates that are very close to 50% ",
   "id": "54c172ba6c5c76c"
  },
  {
   "metadata": {},
   "cell_type": "code",
   "source": [
    "age_bins = [0, 20, 100]\n",
    "titanic_male['AgeGroup'] = pd.cut(titanic_male['age'], bins=age_bins, labels=['0=20', '20+'])\n",
    "\n",
    "bp = sns.barplot(data=titanic_male, x='AgeGroup', y='survived', palette=colors)\n",
    "for g in bp.patches:\n",
    "    bp.annotate(format(g.get_height(), '.3f'), (g.get_x() + g.get_width() / 2., g.get_height() + .05))"
   ],
   "id": "eaa374db8c994754",
   "outputs": [],
   "execution_count": null
  },
  {
   "metadata": {},
   "cell_type": "markdown",
   "source": "## A male who is in the second group has lower survival rates (even though the overall survival rates are still pretty low) than the survival rate of those 0 - 20, this is because in this group we find children and kids, who where the age group with the highest survival rate overall",
   "id": "1ceadb5827f4e4ba"
  }
 ],
 "metadata": {
  "kernelspec": {
   "display_name": "Python 3",
   "language": "python",
   "name": "python3"
  },
  "language_info": {
   "codemirror_mode": {
    "name": "ipython",
    "version": 2
   },
   "file_extension": ".py",
   "mimetype": "text/x-python",
   "name": "python",
   "nbconvert_exporter": "python",
   "pygments_lexer": "ipython2",
   "version": "2.7.6"
  }
 },
 "nbformat": 4,
 "nbformat_minor": 5
}
