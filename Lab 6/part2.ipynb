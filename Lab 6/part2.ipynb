{
 "cells": [
  {
   "metadata": {},
   "cell_type": "code",
   "source": [
    "import seaborn as sns\n",
    "import pandas as pd\n",
    "import matplotlib.pyplot as plt\n",
    "from sklearn.metrics import classification_report\n",
    "from sklearn.model_selection import train_test_split\n",
    "from sklearn.tree import DecisionTreeClassifier, plot_tree\n",
    "\n",
    "dataset = pd.read_csv('data/bank-customers-for-analysis.csv')\n",
    "dataset.sample()"
   ],
   "id": "9334329bc3ed481d",
   "outputs": [],
   "execution_count": null
  },
  {
   "cell_type": "code",
   "id": "initial_id",
   "metadata": {
    "collapsed": true
   },
   "source": [
    "dataset['job'].replace(['admin.', 'entrepreneur', 'management', 'services', 'technician'], 0, inplace=True)\n",
    "dataset['job'].replace(['blue-collar', 'housemaid', 'self-employed'], 1, inplace=True)\n",
    "dataset['job'].replace(['retired', 'student', 'unemployed', 'unknown'], 2, inplace=True)\n",
    "dataset['education'].replace({'primary': 0, 'secondary': 1, 'tertiary': 2, 'unknown': 3}, inplace=True)\n",
    "dataset['marital'].replace({'single': 0, 'married': 1, 'divorced': 2}, inplace=True)\n",
    "dataset['default'].replace({'no': 0, 'yes': 1}, inplace=True)\n",
    "dataset['housing'].replace({'no': 0, 'yes': 1}, inplace=True)\n",
    "dataset['loan'].replace({'no': 0, 'yes': 1}, inplace=True)\n",
    "dataset['income_bracket'].replace({'<40K': 0, '40K-60K': 1, '60K-100K': 2, '100K+': 3}, inplace=True)\n",
    "\n",
    "dataset.drop(columns=['contact', 'day', 'month', 'campaign', 'pdays', 'previous', 'poutcome', 'deposit', 'credit_history'], axis=1, inplace=True)\n",
    "\n",
    "dataset.sample()"
   ],
   "outputs": [],
   "execution_count": null
  },
  {
   "metadata": {},
   "cell_type": "code",
   "source": [
    "X, y = dataset.drop('cc_with_points', axis=1), dataset['cc_with_points']\n",
    "X_train, X_test, y_train, y_test = train_test_split(X, y, test_size=.3, random_state=60)"
   ],
   "id": "4b1096351c63b955",
   "outputs": [],
   "execution_count": null
  },
  {
   "metadata": {},
   "cell_type": "code",
   "source": [
    "dtree = DecisionTreeClassifier()\n",
    "dtree.fit(X_train, y_train)\n",
    "\n",
    "predictions = dtree.predict(X_test)\n",
    "\n",
    "print(classification_report(y_test, predictions))"
   ],
   "id": "33259b9968d645de",
   "outputs": [],
   "execution_count": null
  },
  {
   "metadata": {},
   "cell_type": "code",
   "source": [
    "plt.figure(figsize=(14, 8))\n",
    "corr = dataset.corr(method='kendall')\n",
    "\n",
    "sns.heatmap(data=corr, xticklabels=corr.columns.values, yticklabels=corr.columns.values, cmap='YlGnBu', annot=True)\n",
    "plt.show()"
   ],
   "id": "4fcd3db7a4ef0c9d",
   "outputs": [],
   "execution_count": null
  },
  {
   "metadata": {},
   "cell_type": "code",
   "source": [
    "customer1 = {\n",
    "    'age': [20],\n",
    "    'job': [2],\n",
    "    'marital': [0],\n",
    "    'education': [3],\n",
    "    'default': [0],\n",
    "    'balance': [500],\n",
    "    'housing': [0],\n",
    "    'loan': [0],\n",
    "    'duration': [12],\n",
    "    'credit_score': [400],\n",
    "    'psychographic': [2],\n",
    "    'income_bracket': [0]\n",
    "}\n",
    "\n",
    "customer2 = {\n",
    "    'age': [42],\n",
    "    'job': [0],\n",
    "    'marital': [1],\n",
    "    'education': [3],\n",
    "    'default': [0],\n",
    "    'balance': [20000],\n",
    "    'housing': [0],\n",
    "    'loan': [1],\n",
    "    'duration': [500],\n",
    "    'credit_score': [600],\n",
    "    'psychographic': [1],\n",
    "    'income_bracket': [3]\n",
    "}\n",
    "\n",
    "customer1_df = pd.DataFrame(customer1)\n",
    "customer2_df = pd.DataFrame(customer2)\n",
    "\n",
    "test1 = dtree.predict(customer1_df)\n",
    "test2 = dtree.predict(customer2_df)\n",
    "\n",
    "print(f'CLV of more than $1000:\\nThomas: {test1}\\nHarleen: {test2}')"
   ],
   "id": "c9c540dec349cc90",
   "outputs": [],
   "execution_count": null
  },
  {
   "metadata": {},
   "cell_type": "code",
   "source": "dataset.head()",
   "id": "abf4a3c04ffa6292",
   "outputs": [],
   "execution_count": null
  },
  {
   "metadata": {},
   "cell_type": "code",
   "source": [
    "plt.figure(figsize=(50, 20))\n",
    "fn = ['age', 'job', 'marital', 'education', 'default', 'balance', 'housing', 'loan', 'duration', 'credit_score', 'psychographic', 'income_bracket']\n",
    "cn = ['False', 'True']\n",
    "\n",
    "plot_tree(dtree, filled=True, feature_names=fn, class_names=cn)"
   ],
   "id": "c4b263c5ba34e5ef",
   "outputs": [],
   "execution_count": null
  }
 ],
 "metadata": {
  "kernelspec": {
   "display_name": "Python 3",
   "language": "python",
   "name": "python3"
  },
  "language_info": {
   "codemirror_mode": {
    "name": "ipython",
    "version": 2
   },
   "file_extension": ".py",
   "mimetype": "text/x-python",
   "name": "python",
   "nbconvert_exporter": "python",
   "pygments_lexer": "ipython2",
   "version": "2.7.6"
  }
 },
 "nbformat": 4,
 "nbformat_minor": 5
}
