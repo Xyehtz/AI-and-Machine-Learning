{
 "cells": [
  {
   "metadata": {},
   "cell_type": "code",
   "source": [
    "import seaborn as sns\n",
    "import pandas as pd\n",
    "import matplotlib.pyplot as plt\n",
    "\n",
    "dataset = pd.read_csv('data/bank-customers-for-analysis.csv')\n",
    "dataset.sample()"
   ],
   "id": "fbc121e30a2defb3",
   "outputs": [],
   "execution_count": null
  },
  {
   "metadata": {},
   "cell_type": "code",
   "source": [
    "dataset['job'].replace(['admin.', 'entrepreneur', 'management', 'services', 'technician'], 0, inplace=True)\n",
    "dataset['job'].replace(['blue-collar', 'housemaid', 'self-employed'], 1, inplace=True)\n",
    "dataset['job'].replace(['retired', 'student', 'unemployed', 'unknown'], 2, inplace=True)\n",
    "dataset['education'].replace({'primary': 0, 'secondary': 1, 'tertiary': 2, 'unknown': 3}, inplace=True)\n",
    "dataset['marital'].replace({'single': 0, 'married': 1, 'divorced': 2}, inplace=True)\n",
    "dataset['default'].replace({'no': 0, 'yes': 1}, inplace=True)\n",
    "dataset['housing'].replace({'no': 0, 'yes': 1}, inplace=True)\n",
    "dataset['loan'].replace({'no': 0, 'yes': 1}, inplace=True)\n",
    "dataset['income_bracket'].replace({'<40K': 0, '40K-60K': 1, '60K-100K': 2, '100K+': 3}, inplace=True)\n",
    "\n",
    "dataset.drop(columns=['contact', 'day', 'month', 'campaign', 'pdays', 'previous', 'poutcome', 'deposit', 'credit_history'], axis=1, inplace=True)\n",
    "\n",
    "dataset.sample()"
   ],
   "id": "39442d28643d343e",
   "outputs": [],
   "execution_count": null
  },
  {
   "metadata": {},
   "cell_type": "code",
   "source": [
    "fig, ax = plt.subplots(figsize=(10, 6))\n",
    "bp = sns.barplot(data=dataset, x='income_bracket', y='cc_with_points', ax=ax)\n",
    "\n",
    "plt.ylabel('CC with Points')\n",
    "plt.xlabel('Income Brackets')\n",
    "\n",
    "for g in bp.patches:\n",
    "    bp.annotate(format(g.get_height(), '.3f'), (g.get_x() + g.get_width() / 2, g.get_height() + 0.005))"
   ],
   "id": "cae61ec5638b588f",
   "outputs": [],
   "execution_count": null
  },
  {
   "metadata": {},
   "cell_type": "code",
   "source": [
    "fig, ax = plt.subplots(figsize=(10, 6))\n",
    "age_bins = [0, 20, 40, 60, 80, 100]\n",
    "dataset['age'] = pd.cut(dataset['age'], bins=age_bins, labels=['<20', '20-40', '40-60', '60-80', '80-100'])\n",
    "bp = sns.barplot(data=dataset, x='age', y='cc_with_points', ax=ax)\n",
    "\n",
    "plt.ylabel('CC with Points')\n",
    "plt.xlabel('Age')\n",
    "\n",
    "for g in bp.patches:\n",
    "    bp.annotate(format(g.get_height(), '.3f'), (g.get_x() + g.get_width() / 2, g.get_height() + 0.05))"
   ],
   "id": "8deaa44449b65035",
   "outputs": [],
   "execution_count": null
  },
  {
   "metadata": {},
   "cell_type": "code",
   "source": [
    "fig, ax = plt.subplots(figsize=(10, 6))\n",
    "credit_bins = [0, 400, 500, 600, 700, 800, 900, 1000]\n",
    "dataset['credit_score'] = pd.cut(dataset['credit_score'], bins=credit_bins, labels=['<400', '400-500', '500-600', '600-700', '700-800', '800-900', '900+'])\n",
    "bp = sns.barplot(data=dataset, x='credit_score', y='cc_with_points', ax=ax)\n",
    "\n",
    "plt.ylabel('CC with Points')\n",
    "plt.xlabel('Credit Score')\n",
    "\n",
    "for g in bp.patches:\n",
    "    bp.annotate(format(g.get_height(), '.3f'), (g.get_x() + g.get_width() / 2, g.get_height() + 0.01))"
   ],
   "id": "deeaf0cf3856e24b",
   "outputs": [],
   "execution_count": null
  }
 ],
 "metadata": {
  "kernelspec": {
   "display_name": "Python 3",
   "language": "python",
   "name": "python3"
  },
  "language_info": {
   "codemirror_mode": {
    "name": "ipython",
    "version": 2
   },
   "file_extension": ".py",
   "mimetype": "text/x-python",
   "name": "python",
   "nbconvert_exporter": "python",
   "pygments_lexer": "ipython2",
   "version": "2.7.6"
  }
 },
 "nbformat": 4,
 "nbformat_minor": 5
}
