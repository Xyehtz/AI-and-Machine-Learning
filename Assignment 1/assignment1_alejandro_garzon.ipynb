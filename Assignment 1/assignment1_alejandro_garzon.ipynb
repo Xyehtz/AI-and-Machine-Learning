{
 "cells": [
  {
   "metadata": {},
   "cell_type": "code",
   "source": [
    "import seaborn as sns\n",
    "import matplotlib.pyplot as plt\n",
    "import pandas as pd\n",
    "from sklearn.linear_model import LogisticRegression\n",
    "from sklearn.model_selection import train_test_split\n",
    "\n",
    "# Load dataset\n",
    "dataset = pd.read_csv('dataset_alejandro_garzon.csv')\n",
    "dataset"
   ],
   "id": "65be63c16c8cd231",
   "outputs": [],
   "execution_count": null
  },
  {
   "metadata": {},
   "cell_type": "markdown",
   "source": "This dataset includes information of multiple patients, some of whom have a heart disease, this dataset has some important columns that can be useful for the predictions, such as gender, age, current smoker, cigarettes per day blood pressure medication, and more",
   "id": "936e4afe94ca6d4"
  },
  {
   "metadata": {},
   "cell_type": "markdown",
   "source": "The question is the following: *Does a 40-year-old man, with a BMI of 22, who doesn't smoke, but has a prevalent stroke (the other values are average), has risk of a heart disease in the next 10 years?*",
   "id": "a677c0e9b27a4c39"
  },
  {
   "metadata": {},
   "cell_type": "markdown",
   "source": "There are certain elements that don't seem to have a big impact on whether the patient has a heart disease such as the education of the patient",
   "id": "bb27ad699dcde989"
  },
  {
   "metadata": {},
   "cell_type": "code",
   "source": [
    "# Check info to check the amount of null elements\n",
    "dataset.info()"
   ],
   "id": "f130330cb21df8aa",
   "outputs": [],
   "execution_count": null
  },
  {
   "metadata": {},
   "cell_type": "code",
   "source": [
    "# Drop the unnecessary columns and null rows\n",
    "dataset.drop(columns=['education'], inplace=True, axis=1)\n",
    "dataset.dropna(inplace=True)\n",
    "\n",
    "# Check new dataset\n",
    "dataset.info()"
   ],
   "id": "fae320f2937d27ef",
   "outputs": [],
   "execution_count": null
  },
  {
   "metadata": {},
   "cell_type": "code",
   "source": [
    "# Graph amount of smoker patients per age\n",
    "fig, ax = plt.subplots(figsize=(20, 7))\n",
    "\n",
    "bp = sns.barplot(data=dataset, x=dataset['age'], y=dataset['currentSmoker'], ax=ax,)\n",
    "plt.title('Follower count of the first 20 users')\n",
    "\n",
    "for g in bp.patches:\n",
    "    bp.annotate(format(g.get_height(), '.3f'), (g.get_x() + g.get_width() / 2., g.get_height() + .05))\n",
    "\n",
    "plt.title('Smokers per age')\n",
    "plt.xlabel('Age')\n",
    "plt.ylabel('Current Smoker')"
   ],
   "id": "445f18d4465a56cd",
   "outputs": [],
   "execution_count": null
  },
  {
   "metadata": {},
   "cell_type": "markdown",
   "source": "This is a great graph that shows the amount of patients that smoke per age, it is interesting to see how the trend goes down until 65, where it starts going up at the age of 66, on the other hand, most of the ages have less than half the patient smoking",
   "id": "1b826393039fc6b"
  },
  {
   "metadata": {},
   "cell_type": "code",
   "source": [
    "# Graph the number of patients with a prevalent stroke per age\n",
    "\n",
    "fig, ax = plt.subplots(figsize=(20, 7))\n",
    "bp = sns.barplot(data=dataset, x=dataset['age'], y=dataset['prevalentStroke'])\n",
    "\n",
    "for g in bp.patches:\n",
    "    bp.annotate(format(g.get_height(), '.3f'), (g.get_x() + g.get_width() / 2., g.get_height() + .05))\n",
    "\n",
    "plt.title('Number of patients with prevalent strokes by age')\n",
    "plt.ylabel('Prevalent Strokes')\n",
    "plt.xlabel('Age')"
   ],
   "id": "c403e99d82bd1458",
   "outputs": [],
   "execution_count": null
  },
  {
   "metadata": {},
   "cell_type": "markdown",
   "source": "This graph shows us that there is not a big amount of patients with a prevalent stroke, and we can also see that most of the patients with prevalent strokes are in the range of 50 - 67 years, but it also seems like strokes tend to appear in the 35 - 50 year range",
   "id": "62e0fd22c13d2900"
  },
  {
   "metadata": {},
   "cell_type": "code",
   "source": [
    "# Number of male patients with diabetes per age\n",
    "\n",
    "# Query\n",
    "male_diabetes = dataset[dataset['male'] == 1]\n",
    "\n",
    "# Graph\n",
    "fig, ax = plt.subplots(figsize=(20, 7))\n",
    "bp = sns.barplot(data=male_diabetes, x=male_diabetes['age'], y=male_diabetes['diabetes'], ax=ax)\n",
    "plt.title('Male patients with diabetes by age')\n",
    "plt.ylabel('Diabetes')\n",
    "plt.xlabel('Age')\n",
    "\n",
    "for g in bp.patches:\n",
    "    bp.annotate(format(g.get_height(), '.3f'), (g.get_x() + g.get_width() / 2., g.get_height() + .05))"
   ],
   "id": "442114c4b87bc4e3",
   "outputs": [],
   "execution_count": null
  },
  {
   "metadata": {},
   "cell_type": "markdown",
   "source": "The graph shows us that male patients start to get diagnosed with diabetes around the age of 39 years, it becomes more common as the patients get older, with an interesting case at the age of 52, where there are more patients with diabetes, being this age the third one with the most diabetes patients",
   "id": "f9e6918c9fa204c1"
  },
  {
   "metadata": {},
   "cell_type": "code",
   "source": [
    "# BMI of female patients by age\n",
    "# Query\n",
    "female_bmi = dataset[dataset['male'] == 0]\n",
    "\n",
    "# Graph\n",
    "fig, ax = plt.subplots(figsize=(20, 7))\n",
    "bp = sns.barplot(data=female_bmi, x=female_bmi['age'], y=female_bmi['BMI'], ax=ax)\n",
    "\n",
    "for g in bp.patches:\n",
    "    bp.annotate(format(g.get_height(), '.3f'), (g.get_x() + g.get_width() / 2., g.get_height() + .05))\n",
    "    \n",
    "plt.title('Female patients BMI by age')\n",
    "plt.ylabel('BMI')\n",
    "plt.xlabel('Age')"
   ],
   "id": "219f52b971d742ab",
   "outputs": [],
   "execution_count": null
  },
  {
   "metadata": {},
   "cell_type": "markdown",
   "source": "The graph shows how there is a trend in the average BMI per age, where it slowly grows from around 21 to around 28, before the trend changes, it is also very interesting to see the great difference in the BMI for ages 32 and 70 compared to the other ages, being these two the highest BMIs on the dataset",
   "id": "b2ca8ed0713a31df"
  },
  {
   "metadata": {},
   "cell_type": "code",
   "source": [
    "# Number of cigarettes per day for female patients\n",
    "# Query\n",
    "female_cigarettes_per_day = dataset[dataset['male'] == 0]\n",
    "\n",
    "# Graph\n",
    "fig, ax = plt.subplots(figsize=(20, 7))\n",
    "bp = sns.barplot(data=female_cigarettes_per_day, x=female_cigarettes_per_day['age'], y=female_cigarettes_per_day['cigsPerDay'], ax=ax)\n",
    "plt.title('Amount of cigarettes per day (Woman)')\n",
    "plt.ylabel('Amount of cigarettes per day')\n",
    "plt.xlabel('Age')\n",
    "\n",
    "for g in bp.patches:\n",
    "    bp.annotate(format(g.get_height(), '.3f'), (g.get_x() + g.get_width() / 2., g.get_height() + .05))"
   ],
   "id": "24fc191713742cef",
   "outputs": [],
   "execution_count": null
  },
  {
   "metadata": {},
   "cell_type": "markdown",
   "source": "Overall, in this graph we see a trend that goes down in regard to the amount of cigarettes smoked per day, although, there are some spikes on the graph, they are usually lower than the last spike, in this case, there is a similar trend as the last graph, where ages 32 and 68 are some of the highest smokers, in this case,age 32 has the most smoked cigarettes per day, and age 68 has 10 cigarettes per day ",
   "id": "6aace427ef25ff1a"
  },
  {
   "metadata": {},
   "cell_type": "code",
   "source": [
    "# Get the dependent and independent variables\n",
    "X, y = dataset.drop('TenYearCHD', axis=1), dataset['TenYearCHD']\n",
    "\n",
    "# Split data, display X_train\n",
    "X_train, X_test, y_train, y_test = train_test_split(X, y, test_size=0.3, random_state=42)\n",
    "X_train"
   ],
   "id": "3d4240bf08987ed0",
   "outputs": [],
   "execution_count": null
  },
  {
   "metadata": {},
   "cell_type": "code",
   "source": [
    "# Create the model using Logistic Regression\n",
    "model = LogisticRegression(max_iter=1000)\n",
    "model.fit(X_train, y_train)\n",
    "\n",
    "# Test accuracy\n",
    "accuracy = model.score(X_test, y_test)\n",
    "accuracy "
   ],
   "id": "8bc7e9bec15952",
   "outputs": [],
   "execution_count": null
  },
  {
   "metadata": {},
   "cell_type": "code",
   "source": [
    "# Create test based on the question in part 3\n",
    "# Does a 40-year-old man, with a BMI of 22, who doesn't smoke, but has a prevalent stroke (the other values are average), have a heart disease?\n",
    "test = {\n",
    "    'male': [0],\n",
    "    'age': [40],\n",
    "    'currentSmoker': [0],\n",
    "    'cigsPerDay': [0.0],\n",
    "    'BPMeds': [0.0],\n",
    "    'prevalentStroke': [1],\n",
    "    'prevalentHyp': [0],\n",
    "    'diabetes': [0],\n",
    "    'totChol': [190.0],\n",
    "    'sysBP': [100.0],\n",
    "    'diaBP': [70.0],\n",
    "    'BMI': [22],\n",
    "    'heartRate': [70],\n",
    "    'glucose': [95]\n",
    "}\n",
    "\n",
    "test_df = pd.DataFrame(test)\n",
    "result = model.predict(test_df)\n",
    "print(f'Result (0 - No heart disease risk, 1 - Heart disease risk): {result}')"
   ],
   "id": "5c799e65d36263dd",
   "outputs": [],
   "execution_count": null
  }
 ],
 "metadata": {
  "kernelspec": {
   "display_name": "Python 3",
   "language": "python",
   "name": "python3"
  },
  "language_info": {
   "codemirror_mode": {
    "name": "ipython",
    "version": 2
   },
   "file_extension": ".py",
   "mimetype": "text/x-python",
   "name": "python",
   "nbconvert_exporter": "python",
   "pygments_lexer": "ipython2",
   "version": "2.7.6"
  }
 },
 "nbformat": 4,
 "nbformat_minor": 5
}
